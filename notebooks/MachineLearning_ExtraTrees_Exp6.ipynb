{
 "cells": [
  {
   "attachments": {},
   "cell_type": "markdown",
   "metadata": {},
   "source": [
    "### • Business Understanding\n",
    "\n",
    "•  **Introduction:** The aim of this project is to develop a binary classifier model that can predict which customers are likely to buy a new vehicle. To achieve this, a dataset of car repurchases will be used for this binary classification problem. While undertaking tasks such as data exploration, cleaning, feature scaling, selection of appropriate algorithm, its hyperparameters and employing various techniques such as cross-validation, hyperparameter tuning, feature importance etc. can lead to an improvement in the accuracy of the model. The outcomes of this model can subsequently be utilized to focus on potential customers for a promotional marketing campaign.\n",
    "\n",
    "• **Dataset:** The below dataset contains information about current customers who have bought one or more vehicle.\n",
    "\t\t\n",
    "             repurchase_training.csv\n",
    "\n",
    "• **Business Problem:** Develop a Binary Classifier model that can predict customers who are likely towards purchasing a new vehicle, by working on a dataset of car repurchases using Binary Classification techniques and algorithm.\n",
    "\n",
    "The following activitives are performed for this analysis using Binary Classification.\n",
    "\n",
    "• Business Understanding\n",
    "\n",
    "• Data Understanding\n",
    "\n",
    "        1] Loading Data\n",
    "        2] Exploring Data\n",
    "\n",
    "• Data Preparation\n",
    "\n",
    "        3] Transforming Categorical Data into Numerical\n",
    "        4] Selecting Target Variable and Features\n",
    "        5] Splitting Data into Different (Training, Validation and Testing) Sets\n",
    "        6] Features Scaling\n",
    "\n",
    "• Modeling\n",
    "\n",
    "        7] Assessing Baseline Performance\n",
    "        8] Training Binary Classification Model\n",
    "\n",
    "• Model Evaluation\n",
    "\n",
    "        9] Analysing Model Performance\n",
    "    \n",
    "• Summary Insight & Deployment Suggestion"
   ]
  },
  {
   "cell_type": "code",
   "execution_count": 93,
   "metadata": {},
   "outputs": [],
   "source": [
    "# Importing required Python libraries\n",
    "import numpy as np\n",
    "import pandas as pd\n",
    "from scipy.stats import randint\n",
    "\n",
    "# Importing SKLearn libaries - ExtraTreesClassifier class and other related modules\n",
    "from sklearn.ensemble import ExtraTreesClassifier\n",
    "from sklearn.preprocessing import OneHotEncoder\n",
    "from sklearn.preprocessing import StandardScaler\n",
    "from sklearn.model_selection import train_test_split, RandomizedSearchCV, StratifiedKFold\n",
    "from sklearn.metrics import precision_score, recall_score, f1_score, confusion_matrix\n",
    "\n",
    "# Importing required Data Visualization libraries\n",
    "import altair as alt\n",
    "import seaborn as sns\n",
    "import matplotlib.pyplot as plt\n",
    "%matplotlib inline\n",
    "\n",
    "# Importing other formatting libraries\n",
    "from quo import echo\n",
    "import warnings"
   ]
  },
  {
   "cell_type": "code",
   "execution_count": 94,
   "metadata": {},
   "outputs": [],
   "source": [
    "#Ignoring warnings to maintain a clean coding.\n",
    "warnings.filterwarnings(\"ignore\")"
   ]
  },
  {
   "attachments": {},
   "cell_type": "markdown",
   "metadata": {},
   "source": [
    "### • Data Understanding"
   ]
  },
  {
   "attachments": {},
   "cell_type": "markdown",
   "metadata": {},
   "source": [
    "#### 1] Loading  Data"
   ]
  },
  {
   "cell_type": "code",
   "execution_count": 95,
   "metadata": {},
   "outputs": [],
   "source": [
    "# Generating a variable called file_url, which will store the path detail for the CSV data file. \n",
    "# Note: To load the data successfully, update this path to the correct location of the file.\n",
    "file_url = '/Users/monalipatil/Monali/MDSI-Semester1/Machine Learning Algorithms and Applications/Assignment2/'\n",
    "\n",
    "# Loading data into a pandas dataframe and assigning the name 'df_car_repurchase_data' to it. \n",
    "df_car_repurchase_data = pd.read_csv(file_url + 'repurchase_training.csv')"
   ]
  },
  {
   "attachments": {},
   "cell_type": "markdown",
   "metadata": {},
   "source": [
    "#### 2] Exploring Data"
   ]
  },
  {
   "attachments": {},
   "cell_type": "markdown",
   "metadata": {},
   "source": [
    "• Inspecting a few individual data points of the dataset."
   ]
  },
  {
   "cell_type": "code",
   "execution_count": 96,
   "metadata": {},
   "outputs": [
    {
     "data": {
      "text/html": [
       "<div>\n",
       "<style scoped>\n",
       "    .dataframe tbody tr th:only-of-type {\n",
       "        vertical-align: middle;\n",
       "    }\n",
       "\n",
       "    .dataframe tbody tr th {\n",
       "        vertical-align: top;\n",
       "    }\n",
       "\n",
       "    .dataframe thead th {\n",
       "        text-align: right;\n",
       "    }\n",
       "</style>\n",
       "<table border=\"1\" class=\"dataframe\">\n",
       "  <thead>\n",
       "    <tr style=\"text-align: right;\">\n",
       "      <th></th>\n",
       "      <th>ID</th>\n",
       "      <th>Target</th>\n",
       "      <th>age_band</th>\n",
       "      <th>gender</th>\n",
       "      <th>car_model</th>\n",
       "      <th>car_segment</th>\n",
       "      <th>age_of_vehicle_years</th>\n",
       "      <th>sched_serv_warr</th>\n",
       "      <th>non_sched_serv_warr</th>\n",
       "      <th>sched_serv_paid</th>\n",
       "      <th>non_sched_serv_paid</th>\n",
       "      <th>total_paid_services</th>\n",
       "      <th>total_services</th>\n",
       "      <th>mth_since_last_serv</th>\n",
       "      <th>annualised_mileage</th>\n",
       "      <th>num_dealers_visited</th>\n",
       "      <th>num_serv_dealer_purchased</th>\n",
       "    </tr>\n",
       "  </thead>\n",
       "  <tbody>\n",
       "    <tr>\n",
       "      <th>0</th>\n",
       "      <td>1</td>\n",
       "      <td>0</td>\n",
       "      <td>3. 35 to 44</td>\n",
       "      <td>Male</td>\n",
       "      <td>model_1</td>\n",
       "      <td>LCV</td>\n",
       "      <td>9</td>\n",
       "      <td>2</td>\n",
       "      <td>10</td>\n",
       "      <td>3</td>\n",
       "      <td>7</td>\n",
       "      <td>5</td>\n",
       "      <td>6</td>\n",
       "      <td>9</td>\n",
       "      <td>8</td>\n",
       "      <td>10</td>\n",
       "      <td>4</td>\n",
       "    </tr>\n",
       "    <tr>\n",
       "      <th>1</th>\n",
       "      <td>2</td>\n",
       "      <td>0</td>\n",
       "      <td>NaN</td>\n",
       "      <td>NaN</td>\n",
       "      <td>model_2</td>\n",
       "      <td>Small/Medium</td>\n",
       "      <td>6</td>\n",
       "      <td>10</td>\n",
       "      <td>3</td>\n",
       "      <td>10</td>\n",
       "      <td>4</td>\n",
       "      <td>9</td>\n",
       "      <td>10</td>\n",
       "      <td>6</td>\n",
       "      <td>10</td>\n",
       "      <td>7</td>\n",
       "      <td>10</td>\n",
       "    </tr>\n",
       "    <tr>\n",
       "      <th>2</th>\n",
       "      <td>3</td>\n",
       "      <td>0</td>\n",
       "      <td>NaN</td>\n",
       "      <td>Male</td>\n",
       "      <td>model_3</td>\n",
       "      <td>Large/SUV</td>\n",
       "      <td>9</td>\n",
       "      <td>10</td>\n",
       "      <td>9</td>\n",
       "      <td>10</td>\n",
       "      <td>9</td>\n",
       "      <td>10</td>\n",
       "      <td>10</td>\n",
       "      <td>7</td>\n",
       "      <td>10</td>\n",
       "      <td>6</td>\n",
       "      <td>10</td>\n",
       "    </tr>\n",
       "    <tr>\n",
       "      <th>3</th>\n",
       "      <td>5</td>\n",
       "      <td>0</td>\n",
       "      <td>NaN</td>\n",
       "      <td>NaN</td>\n",
       "      <td>model_3</td>\n",
       "      <td>Large/SUV</td>\n",
       "      <td>5</td>\n",
       "      <td>8</td>\n",
       "      <td>5</td>\n",
       "      <td>8</td>\n",
       "      <td>4</td>\n",
       "      <td>5</td>\n",
       "      <td>6</td>\n",
       "      <td>4</td>\n",
       "      <td>10</td>\n",
       "      <td>9</td>\n",
       "      <td>7</td>\n",
       "    </tr>\n",
       "    <tr>\n",
       "      <th>4</th>\n",
       "      <td>6</td>\n",
       "      <td>0</td>\n",
       "      <td>NaN</td>\n",
       "      <td>Female</td>\n",
       "      <td>model_2</td>\n",
       "      <td>Small/Medium</td>\n",
       "      <td>8</td>\n",
       "      <td>9</td>\n",
       "      <td>4</td>\n",
       "      <td>10</td>\n",
       "      <td>7</td>\n",
       "      <td>9</td>\n",
       "      <td>8</td>\n",
       "      <td>5</td>\n",
       "      <td>4</td>\n",
       "      <td>4</td>\n",
       "      <td>9</td>\n",
       "    </tr>\n",
       "  </tbody>\n",
       "</table>\n",
       "</div>"
      ],
      "text/plain": [
       "   ID  Target     age_band  gender car_model   car_segment  \\\n",
       "0   1       0  3. 35 to 44    Male   model_1           LCV   \n",
       "1   2       0          NaN     NaN   model_2  Small/Medium   \n",
       "2   3       0          NaN    Male   model_3     Large/SUV   \n",
       "3   5       0          NaN     NaN   model_3     Large/SUV   \n",
       "4   6       0          NaN  Female   model_2  Small/Medium   \n",
       "\n",
       "   age_of_vehicle_years  sched_serv_warr  non_sched_serv_warr  \\\n",
       "0                     9                2                   10   \n",
       "1                     6               10                    3   \n",
       "2                     9               10                    9   \n",
       "3                     5                8                    5   \n",
       "4                     8                9                    4   \n",
       "\n",
       "   sched_serv_paid  non_sched_serv_paid  total_paid_services  total_services  \\\n",
       "0                3                    7                    5               6   \n",
       "1               10                    4                    9              10   \n",
       "2               10                    9                   10              10   \n",
       "3                8                    4                    5               6   \n",
       "4               10                    7                    9               8   \n",
       "\n",
       "   mth_since_last_serv  annualised_mileage  num_dealers_visited  \\\n",
       "0                    9                   8                   10   \n",
       "1                    6                  10                    7   \n",
       "2                    7                  10                    6   \n",
       "3                    4                  10                    9   \n",
       "4                    5                   4                    4   \n",
       "\n",
       "   num_serv_dealer_purchased  \n",
       "0                          4  \n",
       "1                         10  \n",
       "2                         10  \n",
       "3                          7  \n",
       "4                          9  "
      ]
     },
     "execution_count": 96,
     "metadata": {},
     "output_type": "execute_result"
    }
   ],
   "source": [
    "# Showing the initial 5 rows of the dataset.\n",
    "df_car_repurchase_data.head(5)"
   ]
  },
  {
   "attachments": {},
   "cell_type": "markdown",
   "metadata": {},
   "source": [
    "#### Insights: \n",
    "\n",
    "* Reviewing the initial obeservations, the car repurchase dataset contains multiple fields that provide information related to the model of the vehicle, the vehicle's category, the annual mileage, the age of the previous vehicle, various details regarding servicings, as well as the gender and age range of the car owners.\n",
    "\n",
    "* Out of all the features in the dataset, four of them contain categorical data, which are 'age_band', 'gender', 'car_model', and 'car_segment', while rest of the features hold numerical data. \n",
    "\n",
    "* The 'ID' attribute seems to be a variable for identification purposes.\n",
    "\n",
    "* The 'Target' attribute is the variable we want to predict, indicating a value of 0 if the individual bought only single vehicle and 1 if the customer purchased multiple vehicles."
   ]
  },
  {
   "attachments": {},
   "cell_type": "markdown",
   "metadata": {},
   "source": [
    "•\tExamining the dimension of the datasets."
   ]
  },
  {
   "cell_type": "code",
   "execution_count": 97,
   "metadata": {},
   "outputs": [
    {
     "name": "stdout",
     "output_type": "stream",
     "text": [
      "(131337, 17)\n",
      "\n",
      "Thus, the dataset consist of:\n",
      "Rows: 131337\n",
      "Columns: 17\n"
     ]
    }
   ],
   "source": [
    "# Providing information about the size or shape of the dataset by describing the number of rows and columns or its shape.# \n",
    "print(df_car_repurchase_data.shape)\n",
    "print(\"\\nThus, the dataset consist of:\")\n",
    "print(\"Rows: {}\".format(df_car_repurchase_data.shape[0]))\n",
    "print(\"Columns: {}\".format(df_car_repurchase_data.shape[1]))"
   ]
  },
  {
   "attachments": {},
   "cell_type": "markdown",
   "metadata": {},
   "source": [
    "•\tDisplaying features names. "
   ]
  },
  {
   "cell_type": "code",
   "execution_count": 98,
   "metadata": {},
   "outputs": [
    {
     "data": {
      "text/plain": [
       "Index(['ID', 'Target', 'age_band', 'gender', 'car_model', 'car_segment',\n",
       "       'age_of_vehicle_years', 'sched_serv_warr', 'non_sched_serv_warr',\n",
       "       'sched_serv_paid', 'non_sched_serv_paid', 'total_paid_services',\n",
       "       'total_services', 'mth_since_last_serv', 'annualised_mileage',\n",
       "       'num_dealers_visited', 'num_serv_dealer_purchased'],\n",
       "      dtype='object')"
      ]
     },
     "execution_count": 98,
     "metadata": {},
     "output_type": "execute_result"
    }
   ],
   "source": [
    "# Viewing the features of the dataset.\n",
    "df_car_repurchase_data.columns"
   ]
  },
  {
   "attachments": {},
   "cell_type": "markdown",
   "metadata": {},
   "source": [
    "#### Insight: \n",
    "\n",
    "* The dataset consists of approximately 131 thousand observations and 17 distinct characteristics that contain various information related to customers who have purchased either single or multiple vehicles. The above outcome illustrates the names of the 17 features."
   ]
  },
  {
   "attachments": {},
   "cell_type": "markdown",
   "metadata": {},
   "source": [
    "•\tProviding a summary overview of the dataset."
   ]
  },
  {
   "cell_type": "code",
   "execution_count": 99,
   "metadata": {},
   "outputs": [
    {
     "name": "stdout",
     "output_type": "stream",
     "text": [
      "<class 'pandas.core.frame.DataFrame'>\n",
      "RangeIndex: 131337 entries, 0 to 131336\n",
      "Data columns (total 17 columns):\n",
      " #   Column                     Non-Null Count   Dtype \n",
      "---  ------                     --------------   ----- \n",
      " 0   ID                         131337 non-null  int64 \n",
      " 1   Target                     131337 non-null  int64 \n",
      " 2   age_band                   18962 non-null   object\n",
      " 3   gender                     62029 non-null   object\n",
      " 4   car_model                  131337 non-null  object\n",
      " 5   car_segment                131337 non-null  object\n",
      " 6   age_of_vehicle_years       131337 non-null  int64 \n",
      " 7   sched_serv_warr            131337 non-null  int64 \n",
      " 8   non_sched_serv_warr        131337 non-null  int64 \n",
      " 9   sched_serv_paid            131337 non-null  int64 \n",
      " 10  non_sched_serv_paid        131337 non-null  int64 \n",
      " 11  total_paid_services        131337 non-null  int64 \n",
      " 12  total_services             131337 non-null  int64 \n",
      " 13  mth_since_last_serv        131337 non-null  int64 \n",
      " 14  annualised_mileage         131337 non-null  int64 \n",
      " 15  num_dealers_visited        131337 non-null  int64 \n",
      " 16  num_serv_dealer_purchased  131337 non-null  int64 \n",
      "dtypes: int64(13), object(4)\n",
      "memory usage: 17.0+ MB\n"
     ]
    }
   ],
   "source": [
    "# Providing an overview of the key statistical details or summary statistics of the dataset.\n",
    "# Inspecting the summary information of the attributes of the dataset.\n",
    "df_car_repurchase_data.info()"
   ]
  },
  {
   "attachments": {},
   "cell_type": "markdown",
   "metadata": {},
   "source": [
    "#### Insights: \n",
    "* The above summary information informs that the vehicles repurchase dataset consists of two distinct categories of information - textual or string data that is represented as an object, and numerical or integer data that is represented as int64. \n",
    "\n",
    "* Most of the data for the 'age_band' and 'gender' attributes is missing. However, there are no missing records for the rest of the features.\n",
    "\n",
    "* Regarding the 'age_band' feature, only 18962 instances out of 131337 are available, indicating that about 85% of the total data is missing.\n",
    "\n",
    "* With regards to the 'gender' attribute, there are only 62029 observations out of the total 131337, indicating that nearly 52% of the overall data is missing."
   ]
  },
  {
   "attachments": {},
   "cell_type": "markdown",
   "metadata": {},
   "source": [
    "•\tChecking summary statistics of the dataset."
   ]
  },
  {
   "cell_type": "code",
   "execution_count": 100,
   "metadata": {},
   "outputs": [
    {
     "data": {
      "text/html": [
       "<div>\n",
       "<style scoped>\n",
       "    .dataframe tbody tr th:only-of-type {\n",
       "        vertical-align: middle;\n",
       "    }\n",
       "\n",
       "    .dataframe tbody tr th {\n",
       "        vertical-align: top;\n",
       "    }\n",
       "\n",
       "    .dataframe thead th {\n",
       "        text-align: right;\n",
       "    }\n",
       "</style>\n",
       "<table border=\"1\" class=\"dataframe\">\n",
       "  <thead>\n",
       "    <tr style=\"text-align: right;\">\n",
       "      <th></th>\n",
       "      <th>ID</th>\n",
       "      <th>Target</th>\n",
       "      <th>age_of_vehicle_years</th>\n",
       "      <th>sched_serv_warr</th>\n",
       "      <th>non_sched_serv_warr</th>\n",
       "      <th>sched_serv_paid</th>\n",
       "      <th>non_sched_serv_paid</th>\n",
       "      <th>total_paid_services</th>\n",
       "      <th>total_services</th>\n",
       "      <th>mth_since_last_serv</th>\n",
       "      <th>annualised_mileage</th>\n",
       "      <th>num_dealers_visited</th>\n",
       "      <th>num_serv_dealer_purchased</th>\n",
       "    </tr>\n",
       "  </thead>\n",
       "  <tbody>\n",
       "    <tr>\n",
       "      <th>count</th>\n",
       "      <td>131337.000000</td>\n",
       "      <td>131337.000000</td>\n",
       "      <td>131337.000000</td>\n",
       "      <td>131337.000000</td>\n",
       "      <td>131337.000000</td>\n",
       "      <td>131337.000000</td>\n",
       "      <td>131337.000000</td>\n",
       "      <td>131337.000000</td>\n",
       "      <td>131337.000000</td>\n",
       "      <td>131337.000000</td>\n",
       "      <td>131337.000000</td>\n",
       "      <td>131337.000000</td>\n",
       "      <td>131337.000000</td>\n",
       "    </tr>\n",
       "    <tr>\n",
       "      <th>mean</th>\n",
       "      <td>77097.384180</td>\n",
       "      <td>0.026809</td>\n",
       "      <td>5.493022</td>\n",
       "      <td>5.452500</td>\n",
       "      <td>5.472517</td>\n",
       "      <td>5.452287</td>\n",
       "      <td>5.497050</td>\n",
       "      <td>5.481692</td>\n",
       "      <td>5.454967</td>\n",
       "      <td>5.469807</td>\n",
       "      <td>5.502836</td>\n",
       "      <td>5.485438</td>\n",
       "      <td>5.480778</td>\n",
       "    </tr>\n",
       "    <tr>\n",
       "      <th>std</th>\n",
       "      <td>44501.636704</td>\n",
       "      <td>0.161525</td>\n",
       "      <td>2.843299</td>\n",
       "      <td>2.884328</td>\n",
       "      <td>2.870665</td>\n",
       "      <td>2.886528</td>\n",
       "      <td>2.878699</td>\n",
       "      <td>2.880408</td>\n",
       "      <td>2.875961</td>\n",
       "      <td>2.859756</td>\n",
       "      <td>2.854896</td>\n",
       "      <td>2.876772</td>\n",
       "      <td>2.867524</td>\n",
       "    </tr>\n",
       "    <tr>\n",
       "      <th>min</th>\n",
       "      <td>1.000000</td>\n",
       "      <td>0.000000</td>\n",
       "      <td>1.000000</td>\n",
       "      <td>1.000000</td>\n",
       "      <td>1.000000</td>\n",
       "      <td>1.000000</td>\n",
       "      <td>1.000000</td>\n",
       "      <td>1.000000</td>\n",
       "      <td>1.000000</td>\n",
       "      <td>1.000000</td>\n",
       "      <td>1.000000</td>\n",
       "      <td>1.000000</td>\n",
       "      <td>1.000000</td>\n",
       "    </tr>\n",
       "    <tr>\n",
       "      <th>25%</th>\n",
       "      <td>38563.000000</td>\n",
       "      <td>0.000000</td>\n",
       "      <td>3.000000</td>\n",
       "      <td>3.000000</td>\n",
       "      <td>3.000000</td>\n",
       "      <td>3.000000</td>\n",
       "      <td>3.000000</td>\n",
       "      <td>3.000000</td>\n",
       "      <td>3.000000</td>\n",
       "      <td>3.000000</td>\n",
       "      <td>3.000000</td>\n",
       "      <td>3.000000</td>\n",
       "      <td>3.000000</td>\n",
       "    </tr>\n",
       "    <tr>\n",
       "      <th>50%</th>\n",
       "      <td>77132.000000</td>\n",
       "      <td>0.000000</td>\n",
       "      <td>5.000000</td>\n",
       "      <td>5.000000</td>\n",
       "      <td>5.000000</td>\n",
       "      <td>5.000000</td>\n",
       "      <td>5.000000</td>\n",
       "      <td>5.000000</td>\n",
       "      <td>5.000000</td>\n",
       "      <td>5.000000</td>\n",
       "      <td>5.000000</td>\n",
       "      <td>5.000000</td>\n",
       "      <td>5.000000</td>\n",
       "    </tr>\n",
       "    <tr>\n",
       "      <th>75%</th>\n",
       "      <td>115668.000000</td>\n",
       "      <td>0.000000</td>\n",
       "      <td>8.000000</td>\n",
       "      <td>8.000000</td>\n",
       "      <td>8.000000</td>\n",
       "      <td>8.000000</td>\n",
       "      <td>8.000000</td>\n",
       "      <td>8.000000</td>\n",
       "      <td>8.000000</td>\n",
       "      <td>8.000000</td>\n",
       "      <td>8.000000</td>\n",
       "      <td>8.000000</td>\n",
       "      <td>8.000000</td>\n",
       "    </tr>\n",
       "    <tr>\n",
       "      <th>max</th>\n",
       "      <td>154139.000000</td>\n",
       "      <td>1.000000</td>\n",
       "      <td>10.000000</td>\n",
       "      <td>10.000000</td>\n",
       "      <td>10.000000</td>\n",
       "      <td>10.000000</td>\n",
       "      <td>10.000000</td>\n",
       "      <td>10.000000</td>\n",
       "      <td>10.000000</td>\n",
       "      <td>10.000000</td>\n",
       "      <td>10.000000</td>\n",
       "      <td>10.000000</td>\n",
       "      <td>10.000000</td>\n",
       "    </tr>\n",
       "  </tbody>\n",
       "</table>\n",
       "</div>"
      ],
      "text/plain": [
       "                  ID         Target  age_of_vehicle_years  sched_serv_warr  \\\n",
       "count  131337.000000  131337.000000         131337.000000    131337.000000   \n",
       "mean    77097.384180       0.026809              5.493022         5.452500   \n",
       "std     44501.636704       0.161525              2.843299         2.884328   \n",
       "min         1.000000       0.000000              1.000000         1.000000   \n",
       "25%     38563.000000       0.000000              3.000000         3.000000   \n",
       "50%     77132.000000       0.000000              5.000000         5.000000   \n",
       "75%    115668.000000       0.000000              8.000000         8.000000   \n",
       "max    154139.000000       1.000000             10.000000        10.000000   \n",
       "\n",
       "       non_sched_serv_warr  sched_serv_paid  non_sched_serv_paid  \\\n",
       "count        131337.000000    131337.000000        131337.000000   \n",
       "mean              5.472517         5.452287             5.497050   \n",
       "std               2.870665         2.886528             2.878699   \n",
       "min               1.000000         1.000000             1.000000   \n",
       "25%               3.000000         3.000000             3.000000   \n",
       "50%               5.000000         5.000000             5.000000   \n",
       "75%               8.000000         8.000000             8.000000   \n",
       "max              10.000000        10.000000            10.000000   \n",
       "\n",
       "       total_paid_services  total_services  mth_since_last_serv  \\\n",
       "count        131337.000000   131337.000000        131337.000000   \n",
       "mean              5.481692        5.454967             5.469807   \n",
       "std               2.880408        2.875961             2.859756   \n",
       "min               1.000000        1.000000             1.000000   \n",
       "25%               3.000000        3.000000             3.000000   \n",
       "50%               5.000000        5.000000             5.000000   \n",
       "75%               8.000000        8.000000             8.000000   \n",
       "max              10.000000       10.000000            10.000000   \n",
       "\n",
       "       annualised_mileage  num_dealers_visited  num_serv_dealer_purchased  \n",
       "count       131337.000000        131337.000000              131337.000000  \n",
       "mean             5.502836             5.485438                   5.480778  \n",
       "std              2.854896             2.876772                   2.867524  \n",
       "min              1.000000             1.000000                   1.000000  \n",
       "25%              3.000000             3.000000                   3.000000  \n",
       "50%              5.000000             5.000000                   5.000000  \n",
       "75%              8.000000             8.000000                   8.000000  \n",
       "max             10.000000            10.000000                  10.000000  "
      ]
     },
     "execution_count": 100,
     "metadata": {},
     "output_type": "execute_result"
    }
   ],
   "source": [
    "# Checking the statistical information of integer variables of the dataset.\n",
    "df_car_repurchase_data.describe()"
   ]
  },
  {
   "cell_type": "code",
   "execution_count": 101,
   "metadata": {},
   "outputs": [
    {
     "data": {
      "text/html": [
       "<div>\n",
       "<style scoped>\n",
       "    .dataframe tbody tr th:only-of-type {\n",
       "        vertical-align: middle;\n",
       "    }\n",
       "\n",
       "    .dataframe tbody tr th {\n",
       "        vertical-align: top;\n",
       "    }\n",
       "\n",
       "    .dataframe thead th {\n",
       "        text-align: right;\n",
       "    }\n",
       "</style>\n",
       "<table border=\"1\" class=\"dataframe\">\n",
       "  <thead>\n",
       "    <tr style=\"text-align: right;\">\n",
       "      <th></th>\n",
       "      <th>ID</th>\n",
       "      <th>Target</th>\n",
       "      <th>age_band</th>\n",
       "      <th>gender</th>\n",
       "      <th>car_model</th>\n",
       "      <th>car_segment</th>\n",
       "      <th>age_of_vehicle_years</th>\n",
       "      <th>sched_serv_warr</th>\n",
       "      <th>non_sched_serv_warr</th>\n",
       "      <th>sched_serv_paid</th>\n",
       "      <th>non_sched_serv_paid</th>\n",
       "      <th>total_paid_services</th>\n",
       "      <th>total_services</th>\n",
       "      <th>mth_since_last_serv</th>\n",
       "      <th>annualised_mileage</th>\n",
       "      <th>num_dealers_visited</th>\n",
       "      <th>num_serv_dealer_purchased</th>\n",
       "    </tr>\n",
       "  </thead>\n",
       "  <tbody>\n",
       "    <tr>\n",
       "      <th>count</th>\n",
       "      <td>131337.000000</td>\n",
       "      <td>131337.000000</td>\n",
       "      <td>18962</td>\n",
       "      <td>62029</td>\n",
       "      <td>131337</td>\n",
       "      <td>131337</td>\n",
       "      <td>131337.000000</td>\n",
       "      <td>131337.000000</td>\n",
       "      <td>131337.000000</td>\n",
       "      <td>131337.000000</td>\n",
       "      <td>131337.000000</td>\n",
       "      <td>131337.000000</td>\n",
       "      <td>131337.000000</td>\n",
       "      <td>131337.000000</td>\n",
       "      <td>131337.000000</td>\n",
       "      <td>131337.000000</td>\n",
       "      <td>131337.000000</td>\n",
       "    </tr>\n",
       "    <tr>\n",
       "      <th>unique</th>\n",
       "      <td>NaN</td>\n",
       "      <td>NaN</td>\n",
       "      <td>7</td>\n",
       "      <td>2</td>\n",
       "      <td>19</td>\n",
       "      <td>4</td>\n",
       "      <td>NaN</td>\n",
       "      <td>NaN</td>\n",
       "      <td>NaN</td>\n",
       "      <td>NaN</td>\n",
       "      <td>NaN</td>\n",
       "      <td>NaN</td>\n",
       "      <td>NaN</td>\n",
       "      <td>NaN</td>\n",
       "      <td>NaN</td>\n",
       "      <td>NaN</td>\n",
       "      <td>NaN</td>\n",
       "    </tr>\n",
       "    <tr>\n",
       "      <th>top</th>\n",
       "      <td>NaN</td>\n",
       "      <td>NaN</td>\n",
       "      <td>4. 45 to 54</td>\n",
       "      <td>Male</td>\n",
       "      <td>model_2</td>\n",
       "      <td>Small/Medium</td>\n",
       "      <td>NaN</td>\n",
       "      <td>NaN</td>\n",
       "      <td>NaN</td>\n",
       "      <td>NaN</td>\n",
       "      <td>NaN</td>\n",
       "      <td>NaN</td>\n",
       "      <td>NaN</td>\n",
       "      <td>NaN</td>\n",
       "      <td>NaN</td>\n",
       "      <td>NaN</td>\n",
       "      <td>NaN</td>\n",
       "    </tr>\n",
       "    <tr>\n",
       "      <th>freq</th>\n",
       "      <td>NaN</td>\n",
       "      <td>NaN</td>\n",
       "      <td>4058</td>\n",
       "      <td>36072</td>\n",
       "      <td>34491</td>\n",
       "      <td>54553</td>\n",
       "      <td>NaN</td>\n",
       "      <td>NaN</td>\n",
       "      <td>NaN</td>\n",
       "      <td>NaN</td>\n",
       "      <td>NaN</td>\n",
       "      <td>NaN</td>\n",
       "      <td>NaN</td>\n",
       "      <td>NaN</td>\n",
       "      <td>NaN</td>\n",
       "      <td>NaN</td>\n",
       "      <td>NaN</td>\n",
       "    </tr>\n",
       "    <tr>\n",
       "      <th>mean</th>\n",
       "      <td>77097.384180</td>\n",
       "      <td>0.026809</td>\n",
       "      <td>NaN</td>\n",
       "      <td>NaN</td>\n",
       "      <td>NaN</td>\n",
       "      <td>NaN</td>\n",
       "      <td>5.493022</td>\n",
       "      <td>5.452500</td>\n",
       "      <td>5.472517</td>\n",
       "      <td>5.452287</td>\n",
       "      <td>5.497050</td>\n",
       "      <td>5.481692</td>\n",
       "      <td>5.454967</td>\n",
       "      <td>5.469807</td>\n",
       "      <td>5.502836</td>\n",
       "      <td>5.485438</td>\n",
       "      <td>5.480778</td>\n",
       "    </tr>\n",
       "    <tr>\n",
       "      <th>std</th>\n",
       "      <td>44501.636704</td>\n",
       "      <td>0.161525</td>\n",
       "      <td>NaN</td>\n",
       "      <td>NaN</td>\n",
       "      <td>NaN</td>\n",
       "      <td>NaN</td>\n",
       "      <td>2.843299</td>\n",
       "      <td>2.884328</td>\n",
       "      <td>2.870665</td>\n",
       "      <td>2.886528</td>\n",
       "      <td>2.878699</td>\n",
       "      <td>2.880408</td>\n",
       "      <td>2.875961</td>\n",
       "      <td>2.859756</td>\n",
       "      <td>2.854896</td>\n",
       "      <td>2.876772</td>\n",
       "      <td>2.867524</td>\n",
       "    </tr>\n",
       "    <tr>\n",
       "      <th>min</th>\n",
       "      <td>1.000000</td>\n",
       "      <td>0.000000</td>\n",
       "      <td>NaN</td>\n",
       "      <td>NaN</td>\n",
       "      <td>NaN</td>\n",
       "      <td>NaN</td>\n",
       "      <td>1.000000</td>\n",
       "      <td>1.000000</td>\n",
       "      <td>1.000000</td>\n",
       "      <td>1.000000</td>\n",
       "      <td>1.000000</td>\n",
       "      <td>1.000000</td>\n",
       "      <td>1.000000</td>\n",
       "      <td>1.000000</td>\n",
       "      <td>1.000000</td>\n",
       "      <td>1.000000</td>\n",
       "      <td>1.000000</td>\n",
       "    </tr>\n",
       "    <tr>\n",
       "      <th>25%</th>\n",
       "      <td>38563.000000</td>\n",
       "      <td>0.000000</td>\n",
       "      <td>NaN</td>\n",
       "      <td>NaN</td>\n",
       "      <td>NaN</td>\n",
       "      <td>NaN</td>\n",
       "      <td>3.000000</td>\n",
       "      <td>3.000000</td>\n",
       "      <td>3.000000</td>\n",
       "      <td>3.000000</td>\n",
       "      <td>3.000000</td>\n",
       "      <td>3.000000</td>\n",
       "      <td>3.000000</td>\n",
       "      <td>3.000000</td>\n",
       "      <td>3.000000</td>\n",
       "      <td>3.000000</td>\n",
       "      <td>3.000000</td>\n",
       "    </tr>\n",
       "    <tr>\n",
       "      <th>50%</th>\n",
       "      <td>77132.000000</td>\n",
       "      <td>0.000000</td>\n",
       "      <td>NaN</td>\n",
       "      <td>NaN</td>\n",
       "      <td>NaN</td>\n",
       "      <td>NaN</td>\n",
       "      <td>5.000000</td>\n",
       "      <td>5.000000</td>\n",
       "      <td>5.000000</td>\n",
       "      <td>5.000000</td>\n",
       "      <td>5.000000</td>\n",
       "      <td>5.000000</td>\n",
       "      <td>5.000000</td>\n",
       "      <td>5.000000</td>\n",
       "      <td>5.000000</td>\n",
       "      <td>5.000000</td>\n",
       "      <td>5.000000</td>\n",
       "    </tr>\n",
       "    <tr>\n",
       "      <th>75%</th>\n",
       "      <td>115668.000000</td>\n",
       "      <td>0.000000</td>\n",
       "      <td>NaN</td>\n",
       "      <td>NaN</td>\n",
       "      <td>NaN</td>\n",
       "      <td>NaN</td>\n",
       "      <td>8.000000</td>\n",
       "      <td>8.000000</td>\n",
       "      <td>8.000000</td>\n",
       "      <td>8.000000</td>\n",
       "      <td>8.000000</td>\n",
       "      <td>8.000000</td>\n",
       "      <td>8.000000</td>\n",
       "      <td>8.000000</td>\n",
       "      <td>8.000000</td>\n",
       "      <td>8.000000</td>\n",
       "      <td>8.000000</td>\n",
       "    </tr>\n",
       "    <tr>\n",
       "      <th>max</th>\n",
       "      <td>154139.000000</td>\n",
       "      <td>1.000000</td>\n",
       "      <td>NaN</td>\n",
       "      <td>NaN</td>\n",
       "      <td>NaN</td>\n",
       "      <td>NaN</td>\n",
       "      <td>10.000000</td>\n",
       "      <td>10.000000</td>\n",
       "      <td>10.000000</td>\n",
       "      <td>10.000000</td>\n",
       "      <td>10.000000</td>\n",
       "      <td>10.000000</td>\n",
       "      <td>10.000000</td>\n",
       "      <td>10.000000</td>\n",
       "      <td>10.000000</td>\n",
       "      <td>10.000000</td>\n",
       "      <td>10.000000</td>\n",
       "    </tr>\n",
       "  </tbody>\n",
       "</table>\n",
       "</div>"
      ],
      "text/plain": [
       "                   ID         Target     age_band gender car_model  \\\n",
       "count   131337.000000  131337.000000        18962  62029    131337   \n",
       "unique            NaN            NaN            7      2        19   \n",
       "top               NaN            NaN  4. 45 to 54   Male   model_2   \n",
       "freq              NaN            NaN         4058  36072     34491   \n",
       "mean     77097.384180       0.026809          NaN    NaN       NaN   \n",
       "std      44501.636704       0.161525          NaN    NaN       NaN   \n",
       "min          1.000000       0.000000          NaN    NaN       NaN   \n",
       "25%      38563.000000       0.000000          NaN    NaN       NaN   \n",
       "50%      77132.000000       0.000000          NaN    NaN       NaN   \n",
       "75%     115668.000000       0.000000          NaN    NaN       NaN   \n",
       "max     154139.000000       1.000000          NaN    NaN       NaN   \n",
       "\n",
       "         car_segment  age_of_vehicle_years  sched_serv_warr  \\\n",
       "count         131337         131337.000000    131337.000000   \n",
       "unique             4                   NaN              NaN   \n",
       "top     Small/Medium                   NaN              NaN   \n",
       "freq           54553                   NaN              NaN   \n",
       "mean             NaN              5.493022         5.452500   \n",
       "std              NaN              2.843299         2.884328   \n",
       "min              NaN              1.000000         1.000000   \n",
       "25%              NaN              3.000000         3.000000   \n",
       "50%              NaN              5.000000         5.000000   \n",
       "75%              NaN              8.000000         8.000000   \n",
       "max              NaN             10.000000        10.000000   \n",
       "\n",
       "        non_sched_serv_warr  sched_serv_paid  non_sched_serv_paid  \\\n",
       "count         131337.000000    131337.000000        131337.000000   \n",
       "unique                  NaN              NaN                  NaN   \n",
       "top                     NaN              NaN                  NaN   \n",
       "freq                    NaN              NaN                  NaN   \n",
       "mean               5.472517         5.452287             5.497050   \n",
       "std                2.870665         2.886528             2.878699   \n",
       "min                1.000000         1.000000             1.000000   \n",
       "25%                3.000000         3.000000             3.000000   \n",
       "50%                5.000000         5.000000             5.000000   \n",
       "75%                8.000000         8.000000             8.000000   \n",
       "max               10.000000        10.000000            10.000000   \n",
       "\n",
       "        total_paid_services  total_services  mth_since_last_serv  \\\n",
       "count         131337.000000   131337.000000        131337.000000   \n",
       "unique                  NaN             NaN                  NaN   \n",
       "top                     NaN             NaN                  NaN   \n",
       "freq                    NaN             NaN                  NaN   \n",
       "mean               5.481692        5.454967             5.469807   \n",
       "std                2.880408        2.875961             2.859756   \n",
       "min                1.000000        1.000000             1.000000   \n",
       "25%                3.000000        3.000000             3.000000   \n",
       "50%                5.000000        5.000000             5.000000   \n",
       "75%                8.000000        8.000000             8.000000   \n",
       "max               10.000000       10.000000            10.000000   \n",
       "\n",
       "        annualised_mileage  num_dealers_visited  num_serv_dealer_purchased  \n",
       "count        131337.000000        131337.000000              131337.000000  \n",
       "unique                 NaN                  NaN                        NaN  \n",
       "top                    NaN                  NaN                        NaN  \n",
       "freq                   NaN                  NaN                        NaN  \n",
       "mean              5.502836             5.485438                   5.480778  \n",
       "std               2.854896             2.876772                   2.867524  \n",
       "min               1.000000             1.000000                   1.000000  \n",
       "25%               3.000000             3.000000                   3.000000  \n",
       "50%               5.000000             5.000000                   5.000000  \n",
       "75%               8.000000             8.000000                   8.000000  \n",
       "max              10.000000            10.000000                  10.000000  "
      ]
     },
     "execution_count": 101,
     "metadata": {},
     "output_type": "execute_result"
    }
   ],
   "source": [
    "# Checking statistical summary information for all variables of the dataset across different data types.\n",
    "df_car_repurchase_data.describe(include='all')"
   ]
  },
  {
   "attachments": {},
   "cell_type": "markdown",
   "metadata": {},
   "source": [
    "#### Insight: \n",
    "\n",
    "* The 'ID' attribute seems to be an identifier and its values are not arranged in specific chronological order as the highest value is 154139, while the dataset contains 131337 datapoints."
   ]
  },
  {
   "attachments": {},
   "cell_type": "markdown",
   "metadata": {},
   "source": [
    "• Inspecting for any null values in the dataset."
   ]
  },
  {
   "cell_type": "code",
   "execution_count": 102,
   "metadata": {},
   "outputs": [
    {
     "data": {
      "text/plain": [
       "ID                                0\n",
       "Target                            0\n",
       "age_band                     112375\n",
       "gender                        69308\n",
       "car_model                         0\n",
       "car_segment                       0\n",
       "age_of_vehicle_years              0\n",
       "sched_serv_warr                   0\n",
       "non_sched_serv_warr               0\n",
       "sched_serv_paid                   0\n",
       "non_sched_serv_paid               0\n",
       "total_paid_services               0\n",
       "total_services                    0\n",
       "mth_since_last_serv               0\n",
       "annualised_mileage                0\n",
       "num_dealers_visited               0\n",
       "num_serv_dealer_purchased         0\n",
       "dtype: int64"
      ]
     },
     "execution_count": 102,
     "metadata": {},
     "output_type": "execute_result"
    }
   ],
   "source": [
    "# Checking whether there are any null values in the dataset.\n",
    "df_car_repurchase_data.isnull().sum()"
   ]
  },
  {
   "attachments": {},
   "cell_type": "markdown",
   "metadata": {},
   "source": [
    "#### Insight: \n",
    "\n",
    "* As mentioned previously, most of the data related to 'age_band' and 'gender' variables is not available, as indicated by the results of checking for null (above outcome) and missing values (below outcome and chart)."
   ]
  },
  {
   "attachments": {},
   "cell_type": "markdown",
   "metadata": {},
   "source": [
    "• Checking if any missing values in the dataset."
   ]
  },
  {
   "cell_type": "code",
   "execution_count": 103,
   "metadata": {},
   "outputs": [
    {
     "data": {
      "text/plain": [
       "ID                                0\n",
       "Target                            0\n",
       "age_band                     112375\n",
       "gender                        69308\n",
       "car_model                         0\n",
       "car_segment                       0\n",
       "age_of_vehicle_years              0\n",
       "sched_serv_warr                   0\n",
       "non_sched_serv_warr               0\n",
       "sched_serv_paid                   0\n",
       "non_sched_serv_paid               0\n",
       "total_paid_services               0\n",
       "total_services                    0\n",
       "mth_since_last_serv               0\n",
       "annualised_mileage                0\n",
       "num_dealers_visited               0\n",
       "num_serv_dealer_purchased         0\n",
       "dtype: int64"
      ]
     },
     "execution_count": 103,
     "metadata": {},
     "output_type": "execute_result"
    }
   ],
   "source": [
    "# Verifying whether there are any missing values in the dataset.\n",
    "df_car_repurchase_data.isna().sum()"
   ]
  },
  {
   "cell_type": "code",
   "execution_count": 104,
   "metadata": {},
   "outputs": [
    {
     "data": {
      "text/plain": [
       "<seaborn.axisgrid.FacetGrid at 0x13a3c54b0>"
      ]
     },
     "execution_count": 104,
     "metadata": {},
     "output_type": "execute_result"
    },
    {
     "data": {
      "text/plain": [
       "<Figure size 1000x600 with 0 Axes>"
      ]
     },
     "metadata": {},
     "output_type": "display_data"
    },
    {
     "data": {
      "image/png": "[encoded data removed]",
      "text/plain": [
       "<Figure size 1084.88x500 with 1 Axes>"
      ]
     },
     "metadata": {},
     "output_type": "display_data"
    }
   ],
   "source": [
    "# Creating a chart to display missing values in the dataset.\n",
    "# Graph settings.\n",
    "plt.figure(figsize=(10,6))\n",
    "\n",
    "# Displaying missing values in the dataset.\n",
    "sns.displot(data=df_car_repurchase_data.isna().melt(value_name=\"missing\"),\n",
    "            y=\"variable\",\n",
    "            aspect=2,\n",
    "            hue=\"missing\",\n",
    "            multiple=\"fill\")"
   ]
  },
  {
   "attachments": {},
   "cell_type": "markdown",
   "metadata": {},
   "source": [
    "#### Insight: \n",
    "\n",
    "* The above chart indicates that around 85% of values for the 'age_band' variable and over 50% of values for the 'gender' variable are missing."
   ]
  },
  {
   "attachments": {},
   "cell_type": "markdown",
   "metadata": {},
   "source": [
    "• Examining if any duplicate values in the dataset."
   ]
  },
  {
   "cell_type": "code",
   "execution_count": 105,
   "metadata": {},
   "outputs": [
    {
     "data": {
      "text/plain": [
       "0"
      ]
     },
     "execution_count": 105,
     "metadata": {},
     "output_type": "execute_result"
    }
   ],
   "source": [
    "# Checking whether there are any duplicate values in the dataset.\n",
    "df_car_repurchase_data.duplicated().sum()"
   ]
  },
  {
   "attachments": {},
   "cell_type": "markdown",
   "metadata": {},
   "source": [
    "#### Insight: \n",
    "\n",
    "* The vehicles repurchase dataset does not contain any duplicate values, indicating that each observation is independent."
   ]
  },
  {
   "attachments": {},
   "cell_type": "markdown",
   "metadata": {},
   "source": [
    "• Checking the data distribution of the numerical features. "
   ]
  },
  {
   "cell_type": "code",
   "execution_count": 106,
   "metadata": {},
   "outputs": [
    {
     "data": {
      "image/png": "[encoded data removed]",
      "text/plain": [
       "<Figure size 2000x2000 with 12 Axes>"
      ]
     },
     "metadata": {},
     "output_type": "display_data"
    }
   ],
   "source": [
    "# Selecting the numerical attributes from the dataset to analyse distribution of their values.\n",
    "df_continuous_features = df_car_repurchase_data[['age_of_vehicle_years', 'sched_serv_warr', 'non_sched_serv_warr', 'sched_serv_paid', 'non_sched_serv_paid', \n",
    "                                                 'total_paid_services', 'total_services', 'mth_since_last_serv', 'annualised_mileage', 'num_dealers_visited', \n",
    "                                                 'num_serv_dealer_purchased']]\n",
    "\n",
    "# Generating a graphical representation of the data distribution of the numerical variables using a histogram.\n",
    "histogram = df_continuous_features.hist(figsize=(20,20), color='lightcoral')"
   ]
  },
  {
   "attachments": {},
   "cell_type": "markdown",
   "metadata": {},
   "source": [
    "#### Insight: \n",
    "\n",
    "* As indicated in the above histogram plots, the data is divided into roughly ten equal parts by representing the numerical features values in deciles.\n",
    "\n",
    "* From this data exploration and analysis, it is evident that the data especially from categorical features is not ready for building machine learning binary classification model, and it requires preprocessing and preparation before it can be utilized by the algorithm."
   ]
  },
  {
   "attachments": {},
   "cell_type": "markdown",
   "metadata": {},
   "source": [
    "### • Data Preparation"
   ]
  },
  {
   "attachments": {},
   "cell_type": "markdown",
   "metadata": {},
   "source": [
    "• Checking the distinct values of the specific feature."
   ]
  },
  {
   "cell_type": "code",
   "execution_count": 107,
   "metadata": {},
   "outputs": [],
   "source": [
    "# Creating function to check the distinct values of the specific feature. \n",
    "def distinct_feature_values(feature_name):\n",
    "    print(\"Feature Name:\", feature_name)\n",
    "    print(\"It's Distinct Values:\", df_car_repurchase_data[feature_name].unique())"
   ]
  },
  {
   "cell_type": "code",
   "execution_count": 108,
   "metadata": {},
   "outputs": [
    {
     "name": "stdout",
     "output_type": "stream",
     "text": [
      "Feature Name: age_band\n",
      "It's Distinct Values: ['3. 35 to 44' nan '1. <25' '4. 45 to 54' '2. 25 to 34' '7. 75+'\n",
      " '5. 55 to 64' '6. 65 to 74']\n"
     ]
    }
   ],
   "source": [
    "# Calling distinct_feature_values() function to check the distinct values of the 'age_band' feature. \n",
    "distinct_feature_values('age_band')"
   ]
  },
  {
   "cell_type": "code",
   "execution_count": 109,
   "metadata": {},
   "outputs": [
    {
     "name": "stdout",
     "output_type": "stream",
     "text": [
      "Feature Name: gender\n",
      "It's Distinct Values: ['Male' nan 'Female']\n"
     ]
    }
   ],
   "source": [
    "# Calling distinct_feature_values() function to check the distinct values of the 'age_band' feature. \n",
    "distinct_feature_values('gender')"
   ]
  },
  {
   "attachments": {},
   "cell_type": "markdown",
   "metadata": {},
   "source": [
    "• Handling missing values in the features."
   ]
  },
  {
   "attachments": {},
   "cell_type": "markdown",
   "metadata": {},
   "source": [
    "#### Rationale: \n",
    "\n",
    "<u> Misssing Values </u>\n",
    "* As machine learning algorithms are incapable of processing features with missing values, we have two options to address these missing values.\n",
    "\n",
    "     1] We can replace missing values with the relavant vaule: Using the most frequent occurring (mode) value from the feature to replace missing values in categorical variables may not accurately represent the distribution of data in those variables 'age_band' and 'gender', especially when large portion of the data is missing. This approach could also create an imbalance in the data by introducing a high number of imputed mode values, potentially leading to biased results.\n",
    "\n",
    "     2] We can eliminate the columns containing missing values entirely: It would be suitable to remove these two 'age_band' and 'gender' features since replacing any value would significantly distort the data due to the high percentage of missing values in these variables.\n",
    "\n",
    "<u> Identifier </u>\n",
    "* The 'ID' variable do not have any predictive value as it contains a unique value for each observation, which means that its values do not contribute to any patterns or trends in the data. And including them in the analysis can lead to overfitting straight a way, where model would fit this specific values from the feature rather than the underlying generic patterns in the data.\n",
    "\n",
    "Therefore, removing 'ID', 'age_band' and 'gender' features from the vehicle repurchase dataset."
   ]
  },
  {
   "cell_type": "code",
   "execution_count": 110,
   "metadata": {},
   "outputs": [],
   "source": [
    "# Removing 'ID', 'age_band', and 'gender' features from the dataset. \n",
    "df_car_repurchase_data.drop(['ID', 'age_band', 'gender'], axis=1, inplace=True) "
   ]
  },
  {
   "cell_type": "code",
   "execution_count": 111,
   "metadata": {},
   "outputs": [
    {
     "data": {
      "text/plain": [
       "<seaborn.axisgrid.FacetGrid at 0x13afe9510>"
      ]
     },
     "execution_count": 111,
     "metadata": {},
     "output_type": "execute_result"
    },
    {
     "data": {
      "text/plain": [
       "<Figure size 1000x600 with 0 Axes>"
      ]
     },
     "metadata": {},
     "output_type": "display_data"
    },
    {
     "data": {
      "image/png": "[encoded data removed]",
      "text/plain": [
       "<Figure size 1084.88x500 with 1 Axes>"
      ]
     },
     "metadata": {},
     "output_type": "display_data"
    }
   ],
   "source": [
    "# Creating a chart to verify elimination of ID and missing value features in the dataset.\n",
    "# Graph settings.\n",
    "plt.figure(figsize=(10,6))\n",
    "\n",
    "# Displaying chart to ensure no missing values in the dataset.\n",
    "sns.displot(data=df_car_repurchase_data.isna().melt(value_name=\"missing\"),\n",
    "            y=\"variable\",\n",
    "            aspect=2,\n",
    "            hue=\"missing\",\n",
    "            multiple=\"fill\")"
   ]
  },
  {
   "attachments": {},
   "cell_type": "markdown",
   "metadata": {},
   "source": [
    "##### Feature Importance\n",
    "\n",
    "#### Rationale: \n",
    "\n",
    "* Utilizing the Feature Importance information derived from 4th experiment, developing the Extra Tree Classifier model (alongside fine-tuned hyperparameters obtained in 4th experiment) and accessing the model's performance to investigate if the performance could be enhanced by applying only below features that are contributing the most to the model's predictions. \n",
    "\n",
    "* Using the top 11 most significant features that impact the model's perdiction of the target categories. Below are the top critical features that are numerical. \n",
    "  - age_of_vehicle_years, sched_serv_warr, non_sched_serv_warr, \n",
    "  - sched_serv_paid, non_sched_serv_paid, total_paid_services,\n",
    "  - total_services, mth_since_last_serv, annualised_mileage,\n",
    "  - num_dealers_visited, num_serv_dealer_purchased"
   ]
  },
  {
   "attachments": {},
   "cell_type": "markdown",
   "metadata": {},
   "source": [
    "• Employing top 11 Significant Features that are influencing the model prediction of target classes."
   ]
  },
  {
   "cell_type": "code",
   "execution_count": 112,
   "metadata": {},
   "outputs": [],
   "source": [
    "# Removing features that are least influencing the model prediction of target classes. \n",
    "df_car_repurchase_copy = df_car_repurchase_data\n",
    "df_car_repurchase_copy.drop(['car_model', 'car_segment'], axis=1, inplace=True) "
   ]
  },
  {
   "cell_type": "code",
   "execution_count": 113,
   "metadata": {},
   "outputs": [
    {
     "data": {
      "text/plain": [
       "Index(['Target', 'age_of_vehicle_years', 'sched_serv_warr',\n",
       "       'non_sched_serv_warr', 'sched_serv_paid', 'non_sched_serv_paid',\n",
       "       'total_paid_services', 'total_services', 'mth_since_last_serv',\n",
       "       'annualised_mileage', 'num_dealers_visited',\n",
       "       'num_serv_dealer_purchased'],\n",
       "      dtype='object')"
      ]
     },
     "execution_count": 113,
     "metadata": {},
     "output_type": "execute_result"
    }
   ],
   "source": [
    "# Checking the features that are contributing the most to the model's predictions.\n",
    "df_car_repurchase_copy.columns"
   ]
  },
  {
   "cell_type": "code",
   "execution_count": 114,
   "metadata": {},
   "outputs": [
    {
     "data": {
      "text/html": [
       "<div>\n",
       "<style scoped>\n",
       "    .dataframe tbody tr th:only-of-type {\n",
       "        vertical-align: middle;\n",
       "    }\n",
       "\n",
       "    .dataframe tbody tr th {\n",
       "        vertical-align: top;\n",
       "    }\n",
       "\n",
       "    .dataframe thead th {\n",
       "        text-align: right;\n",
       "    }\n",
       "</style>\n",
       "<table border=\"1\" class=\"dataframe\">\n",
       "  <thead>\n",
       "    <tr style=\"text-align: right;\">\n",
       "      <th></th>\n",
       "      <th>Target</th>\n",
       "      <th>age_of_vehicle_years</th>\n",
       "      <th>sched_serv_warr</th>\n",
       "      <th>non_sched_serv_warr</th>\n",
       "      <th>sched_serv_paid</th>\n",
       "      <th>non_sched_serv_paid</th>\n",
       "      <th>total_paid_services</th>\n",
       "      <th>total_services</th>\n",
       "      <th>mth_since_last_serv</th>\n",
       "      <th>annualised_mileage</th>\n",
       "      <th>num_dealers_visited</th>\n",
       "      <th>num_serv_dealer_purchased</th>\n",
       "    </tr>\n",
       "  </thead>\n",
       "  <tbody>\n",
       "    <tr>\n",
       "      <th>0</th>\n",
       "      <td>0</td>\n",
       "      <td>9</td>\n",
       "      <td>2</td>\n",
       "      <td>10</td>\n",
       "      <td>3</td>\n",
       "      <td>7</td>\n",
       "      <td>5</td>\n",
       "      <td>6</td>\n",
       "      <td>9</td>\n",
       "      <td>8</td>\n",
       "      <td>10</td>\n",
       "      <td>4</td>\n",
       "    </tr>\n",
       "    <tr>\n",
       "      <th>1</th>\n",
       "      <td>0</td>\n",
       "      <td>6</td>\n",
       "      <td>10</td>\n",
       "      <td>3</td>\n",
       "      <td>10</td>\n",
       "      <td>4</td>\n",
       "      <td>9</td>\n",
       "      <td>10</td>\n",
       "      <td>6</td>\n",
       "      <td>10</td>\n",
       "      <td>7</td>\n",
       "      <td>10</td>\n",
       "    </tr>\n",
       "    <tr>\n",
       "      <th>2</th>\n",
       "      <td>0</td>\n",
       "      <td>9</td>\n",
       "      <td>10</td>\n",
       "      <td>9</td>\n",
       "      <td>10</td>\n",
       "      <td>9</td>\n",
       "      <td>10</td>\n",
       "      <td>10</td>\n",
       "      <td>7</td>\n",
       "      <td>10</td>\n",
       "      <td>6</td>\n",
       "      <td>10</td>\n",
       "    </tr>\n",
       "    <tr>\n",
       "      <th>3</th>\n",
       "      <td>0</td>\n",
       "      <td>5</td>\n",
       "      <td>8</td>\n",
       "      <td>5</td>\n",
       "      <td>8</td>\n",
       "      <td>4</td>\n",
       "      <td>5</td>\n",
       "      <td>6</td>\n",
       "      <td>4</td>\n",
       "      <td>10</td>\n",
       "      <td>9</td>\n",
       "      <td>7</td>\n",
       "    </tr>\n",
       "    <tr>\n",
       "      <th>4</th>\n",
       "      <td>0</td>\n",
       "      <td>8</td>\n",
       "      <td>9</td>\n",
       "      <td>4</td>\n",
       "      <td>10</td>\n",
       "      <td>7</td>\n",
       "      <td>9</td>\n",
       "      <td>8</td>\n",
       "      <td>5</td>\n",
       "      <td>4</td>\n",
       "      <td>4</td>\n",
       "      <td>9</td>\n",
       "    </tr>\n",
       "  </tbody>\n",
       "</table>\n",
       "</div>"
      ],
      "text/plain": [
       "   Target  age_of_vehicle_years  sched_serv_warr  non_sched_serv_warr  \\\n",
       "0       0                     9                2                   10   \n",
       "1       0                     6               10                    3   \n",
       "2       0                     9               10                    9   \n",
       "3       0                     5                8                    5   \n",
       "4       0                     8                9                    4   \n",
       "\n",
       "   sched_serv_paid  non_sched_serv_paid  total_paid_services  total_services  \\\n",
       "0                3                    7                    5               6   \n",
       "1               10                    4                    9              10   \n",
       "2               10                    9                   10              10   \n",
       "3                8                    4                    5               6   \n",
       "4               10                    7                    9               8   \n",
       "\n",
       "   mth_since_last_serv  annualised_mileage  num_dealers_visited  \\\n",
       "0                    9                   8                   10   \n",
       "1                    6                  10                    7   \n",
       "2                    7                  10                    6   \n",
       "3                    4                  10                    9   \n",
       "4                    5                   4                    4   \n",
       "\n",
       "   num_serv_dealer_purchased  \n",
       "0                          4  \n",
       "1                         10  \n",
       "2                         10  \n",
       "3                          7  \n",
       "4                          9  "
      ]
     },
     "execution_count": 114,
     "metadata": {},
     "output_type": "execute_result"
    }
   ],
   "source": [
    "df_car_repurchase_copy.head()"
   ]
  },
  {
   "cell_type": "code",
   "execution_count": 115,
   "metadata": {},
   "outputs": [
    {
     "data": {
      "text/html": [
       "<div>\n",
       "<style scoped>\n",
       "    .dataframe tbody tr th:only-of-type {\n",
       "        vertical-align: middle;\n",
       "    }\n",
       "\n",
       "    .dataframe tbody tr th {\n",
       "        vertical-align: top;\n",
       "    }\n",
       "\n",
       "    .dataframe thead th {\n",
       "        text-align: right;\n",
       "    }\n",
       "</style>\n",
       "<table border=\"1\" class=\"dataframe\">\n",
       "  <thead>\n",
       "    <tr style=\"text-align: right;\">\n",
       "      <th></th>\n",
       "      <th>Target</th>\n",
       "      <th>age_of_vehicle_years</th>\n",
       "      <th>sched_serv_warr</th>\n",
       "      <th>non_sched_serv_warr</th>\n",
       "      <th>sched_serv_paid</th>\n",
       "      <th>non_sched_serv_paid</th>\n",
       "      <th>total_paid_services</th>\n",
       "      <th>total_services</th>\n",
       "      <th>mth_since_last_serv</th>\n",
       "      <th>annualised_mileage</th>\n",
       "      <th>num_dealers_visited</th>\n",
       "      <th>num_serv_dealer_purchased</th>\n",
       "    </tr>\n",
       "  </thead>\n",
       "  <tbody>\n",
       "    <tr>\n",
       "      <th>0</th>\n",
       "      <td>0</td>\n",
       "      <td>9</td>\n",
       "      <td>2</td>\n",
       "      <td>10</td>\n",
       "      <td>3</td>\n",
       "      <td>7</td>\n",
       "      <td>5</td>\n",
       "      <td>6</td>\n",
       "      <td>9</td>\n",
       "      <td>8</td>\n",
       "      <td>10</td>\n",
       "      <td>4</td>\n",
       "    </tr>\n",
       "    <tr>\n",
       "      <th>1</th>\n",
       "      <td>0</td>\n",
       "      <td>6</td>\n",
       "      <td>10</td>\n",
       "      <td>3</td>\n",
       "      <td>10</td>\n",
       "      <td>4</td>\n",
       "      <td>9</td>\n",
       "      <td>10</td>\n",
       "      <td>6</td>\n",
       "      <td>10</td>\n",
       "      <td>7</td>\n",
       "      <td>10</td>\n",
       "    </tr>\n",
       "    <tr>\n",
       "      <th>2</th>\n",
       "      <td>0</td>\n",
       "      <td>9</td>\n",
       "      <td>10</td>\n",
       "      <td>9</td>\n",
       "      <td>10</td>\n",
       "      <td>9</td>\n",
       "      <td>10</td>\n",
       "      <td>10</td>\n",
       "      <td>7</td>\n",
       "      <td>10</td>\n",
       "      <td>6</td>\n",
       "      <td>10</td>\n",
       "    </tr>\n",
       "    <tr>\n",
       "      <th>3</th>\n",
       "      <td>0</td>\n",
       "      <td>5</td>\n",
       "      <td>8</td>\n",
       "      <td>5</td>\n",
       "      <td>8</td>\n",
       "      <td>4</td>\n",
       "      <td>5</td>\n",
       "      <td>6</td>\n",
       "      <td>4</td>\n",
       "      <td>10</td>\n",
       "      <td>9</td>\n",
       "      <td>7</td>\n",
       "    </tr>\n",
       "    <tr>\n",
       "      <th>4</th>\n",
       "      <td>0</td>\n",
       "      <td>8</td>\n",
       "      <td>9</td>\n",
       "      <td>4</td>\n",
       "      <td>10</td>\n",
       "      <td>7</td>\n",
       "      <td>9</td>\n",
       "      <td>8</td>\n",
       "      <td>5</td>\n",
       "      <td>4</td>\n",
       "      <td>4</td>\n",
       "      <td>9</td>\n",
       "    </tr>\n",
       "  </tbody>\n",
       "</table>\n",
       "</div>"
      ],
      "text/plain": [
       "   Target  age_of_vehicle_years  sched_serv_warr  non_sched_serv_warr  \\\n",
       "0       0                     9                2                   10   \n",
       "1       0                     6               10                    3   \n",
       "2       0                     9               10                    9   \n",
       "3       0                     5                8                    5   \n",
       "4       0                     8                9                    4   \n",
       "\n",
       "   sched_serv_paid  non_sched_serv_paid  total_paid_services  total_services  \\\n",
       "0                3                    7                    5               6   \n",
       "1               10                    4                    9              10   \n",
       "2               10                    9                   10              10   \n",
       "3                8                    4                    5               6   \n",
       "4               10                    7                    9               8   \n",
       "\n",
       "   mth_since_last_serv  annualised_mileage  num_dealers_visited  \\\n",
       "0                    9                   8                   10   \n",
       "1                    6                  10                    7   \n",
       "2                    7                  10                    6   \n",
       "3                    4                  10                    9   \n",
       "4                    5                   4                    4   \n",
       "\n",
       "   num_serv_dealer_purchased  \n",
       "0                          4  \n",
       "1                         10  \n",
       "2                         10  \n",
       "3                          7  \n",
       "4                          9  "
      ]
     },
     "execution_count": 115,
     "metadata": {},
     "output_type": "execute_result"
    }
   ],
   "source": [
    "df_car_repurchase_copy.head()"
   ]
  },
  {
   "attachments": {},
   "cell_type": "markdown",
   "metadata": {},
   "source": [
    "#### Rationale: \n",
    "\n",
    "<u> Categorical Data Transformation </u>\n",
    "* As categorical data from above two 'car_model', 'car_segment' features cannot be directly used in binary classification algorithms for machine learning because these algorithms are based and operate on mathematical equations that require numerical inputs. \n",
    "\n",
    "* Additionally, these features 'car_model' and 'car_segment' hold significant information regarding the model and category of vehicles that customers have purchased. This information can be used to predict whether the customer is inclined to purchase a new vehicle.\n",
    "\n",
    "<u> One-Hot Encoding </u>\n",
    "* Therefore, it is necessary to convert the categorical data of these features into numerical data. To achieve this, employing one-hot encoding method, which creates binary columns for every distinct category in the feature. \n",
    "\n",
    "* This method is preferred as there is no inherent order among the category values of the feature, and do not want to create any random relationships between them and prevent model from assuming natural ordering among these distinct categories that may suffer from model bias. "
   ]
  },
  {
   "attachments": {},
   "cell_type": "markdown",
   "metadata": {},
   "source": [
    "#### 3] Transforming Categorical Data into Numerical"
   ]
  },
  {
   "attachments": {},
   "cell_type": "markdown",
   "metadata": {},
   "source": [
    "#### Insight: \n",
    "\n",
    "* The categorical features namely 'car_model' and 'car_segment' had the smallest impact on the model's prediction, so they were excluded, and no data transformation is required as the dataset contains all the numerical features."
   ]
  },
  {
   "attachments": {},
   "cell_type": "markdown",
   "metadata": {},
   "source": [
    "#### 4] Selecting Target Variable and Features"
   ]
  },
  {
   "cell_type": "code",
   "execution_count": 116,
   "metadata": {},
   "outputs": [],
   "source": [
    "# Extracting the target variable 'Target' into 'y' variable.\n",
    "y = df_car_repurchase_copy.pop('Target')\n",
    "\n",
    "# Creating 'X' variable with all the features.\n",
    "X = df_car_repurchase_copy"
   ]
  },
  {
   "attachments": {},
   "cell_type": "markdown",
   "metadata": {},
   "source": [
    "• Examining the frequencies rates of every class within the target variable."
   ]
  },
  {
   "cell_type": "code",
   "execution_count": 117,
   "metadata": {},
   "outputs": [
    {
     "data": {
      "text/plain": [
       "0    127816\n",
       "1      3521\n",
       "Name: Target, dtype: int64"
      ]
     },
     "execution_count": 117,
     "metadata": {},
     "output_type": "execute_result"
    }
   ],
   "source": [
    "# Examining the quantity of each class of the target variable.\n",
    "y.value_counts()"
   ]
  },
  {
   "cell_type": "code",
   "execution_count": 118,
   "metadata": {},
   "outputs": [
    {
     "data": {
      "text/plain": [
       "0    0.973191\n",
       "1    0.026809\n",
       "Name: Target, dtype: float64"
      ]
     },
     "execution_count": 118,
     "metadata": {},
     "output_type": "execute_result"
    }
   ],
   "source": [
    "# Examining the rate of occurence of each class of the target variable.\n",
    "y.value_counts(normalize=True)"
   ]
  },
  {
   "cell_type": "code",
   "execution_count": 119,
   "metadata": {},
   "outputs": [
    {
     "data": {
      "image/png": "[encoded data removed]",
      "text/plain": [
       "<Figure size 640x480 with 1 Axes>"
      ]
     },
     "metadata": {},
     "output_type": "display_data"
    }
   ],
   "source": [
    "# Visualising distribution of data of target variable.\n",
    "sns.countplot(x=y)\n",
    "\n",
    "# Adding labels to the chart.\n",
    "plt.title('Countplot of the Target Variable')\n",
    "plt.xlabel('Classes of the Target Variable')\n",
    "plt.ylabel('Current Customers')\n",
    "plt.show()"
   ]
  },
  {
   "attachments": {},
   "cell_type": "markdown",
   "metadata": {},
   "source": [
    "#### Insight: \n",
    "\n",
    "* Based on the above results, it is evident that a big proportion of the total observations belong to one of the target class, specifically customers who have bought a single vehicle, as indicated by the value 0. Therefore, the dataset of car repurchases is highly imbalanced."
   ]
  },
  {
   "attachments": {},
   "cell_type": "markdown",
   "metadata": {},
   "source": [
    "#### Rationale: \n",
    "\n",
    "<u> Validation Set </u>\n",
    "*  Creating a validation set provides adaptability to carry out multiple experiments, and allows the comparison of the model's performance on the training set and the validation set to determine if the model is overfitting or underfitting. \n",
    "\n",
    "* Furthermore, using a validation set, we can adjust model's hyperparameters and retrain the model until it performs well on the validation set. After we have optimized the model's performance on the validation set, we can then apply the model on the test set to assess its ability to generalize to new and unseen data.\n",
    "\n",
    "* Therefore, utilizing train_test_split() function from sklearn.model_selection module of sklearn library, the car repurchase dataset is split into training (60%), validation (20%), and testing (20%) sets to leverage the flexibility of multiple experimentation.  \n",
    "\n",
    "* Additionally, for any (binary) classification problem, it is essential to examine the frequencies/rates of every class within the target variable and ensure that the splitting of data into different sets matches as similar to the actual data spread.  \n",
    "\n",
    "* As the car repurchase dataset is highly imbalanced, it is necessary to obtain as similar distribution of distinct classes of the target variable for all of the different sets as original dataset."
   ]
  },
  {
   "attachments": {},
   "cell_type": "markdown",
   "metadata": {},
   "source": [
    "#### 5] Splitting Data into Different Sets"
   ]
  },
  {
   "cell_type": "code",
   "execution_count": 120,
   "metadata": {},
   "outputs": [],
   "source": [
    "#Splitting the target variable and features into data with 80% and test with 20%.\n",
    "X_data, X_test, y_data, y_test = train_test_split(X, y, test_size=0.2, random_state=9)\n",
    "\n",
    "#Splitting the target variable and features into training with 80% and validation with 20%.\n",
    "X_train, X_validation, y_train, y_validation = train_test_split(X_data, y_data, test_size=0.2, random_state=9)"
   ]
  },
  {
   "attachments": {},
   "cell_type": "markdown",
   "metadata": {},
   "source": [
    "• Examining the frequencies rates of every class within the target variable of the Training set. "
   ]
  },
  {
   "cell_type": "code",
   "execution_count": 121,
   "metadata": {},
   "outputs": [
    {
     "data": {
      "text/plain": [
       "0    81849\n",
       "1     2206\n",
       "Name: Target, dtype: int64"
      ]
     },
     "execution_count": 121,
     "metadata": {},
     "output_type": "execute_result"
    }
   ],
   "source": [
    "# Examining the quantity of each class of the target variable.\n",
    "y_train.value_counts()"
   ]
  },
  {
   "cell_type": "code",
   "execution_count": 122,
   "metadata": {},
   "outputs": [
    {
     "data": {
      "text/plain": [
       "0    0.973755\n",
       "1    0.026245\n",
       "Name: Target, dtype: float64"
      ]
     },
     "execution_count": 122,
     "metadata": {},
     "output_type": "execute_result"
    }
   ],
   "source": [
    "# Examining the rate of occurence of each class of the target variable.\n",
    "y_train.value_counts(normalize=True)"
   ]
  },
  {
   "attachments": {},
   "cell_type": "markdown",
   "metadata": {},
   "source": [
    "• Examining the frequencies rates of every class within the target variable of the Validation set. "
   ]
  },
  {
   "cell_type": "code",
   "execution_count": 123,
   "metadata": {},
   "outputs": [
    {
     "data": {
      "text/plain": [
       "0    20450\n",
       "1      564\n",
       "Name: Target, dtype: int64"
      ]
     },
     "execution_count": 123,
     "metadata": {},
     "output_type": "execute_result"
    }
   ],
   "source": [
    "# Examining the quantity of each class of the target variable.\n",
    "y_validation.value_counts()"
   ]
  },
  {
   "cell_type": "code",
   "execution_count": 124,
   "metadata": {},
   "outputs": [
    {
     "data": {
      "text/plain": [
       "0    0.973161\n",
       "1    0.026839\n",
       "Name: Target, dtype: float64"
      ]
     },
     "execution_count": 124,
     "metadata": {},
     "output_type": "execute_result"
    }
   ],
   "source": [
    "# Examining the rate of occurence of each class of the target variable.\n",
    "y_validation.value_counts(normalize=True)"
   ]
  },
  {
   "attachments": {},
   "cell_type": "markdown",
   "metadata": {},
   "source": [
    "• Examining the frequencies rates of every class within the target variable of the Testing set."
   ]
  },
  {
   "cell_type": "code",
   "execution_count": 125,
   "metadata": {},
   "outputs": [
    {
     "data": {
      "text/plain": [
       "0    25517\n",
       "1      751\n",
       "Name: Target, dtype: int64"
      ]
     },
     "execution_count": 125,
     "metadata": {},
     "output_type": "execute_result"
    }
   ],
   "source": [
    "# Examining the quantity of each class of the target variable.\n",
    "y_test.value_counts()"
   ]
  },
  {
   "cell_type": "code",
   "execution_count": 126,
   "metadata": {},
   "outputs": [
    {
     "data": {
      "text/plain": [
       "0    0.97141\n",
       "1    0.02859\n",
       "Name: Target, dtype: float64"
      ]
     },
     "execution_count": 126,
     "metadata": {},
     "output_type": "execute_result"
    }
   ],
   "source": [
    "# Examining the rate of occurence of each class of the target variable.\n",
    "y_test.value_counts(normalize=True)"
   ]
  },
  {
   "attachments": {},
   "cell_type": "markdown",
   "metadata": {},
   "source": [
    "#### Insight: \n",
    "\n",
    "* As the dataset is imbalanced, the almost similar distribution pattern of every class is evident across the target variable of the three sets for training, validation, and testing as actual dataset.\n",
    "\n",
    "* After the splitting process, following are the frequencies of the target variable classes.\n",
    "\n",
    "  - Actual Data: Class 1 -> 0.97 and Class 0 -> 0.026\n",
    "\n",
    "  - Training set: Class 1 -> 0.97 and Class 0 -> 0.026\n",
    "\n",
    "  - Validation set: Class 1 -> 0.97 and Class 0 -> 0.026\n",
    "\n",
    "  - Testing set: Class 1 -> 0.97 and Class 0 -> 0.028"
   ]
  },
  {
   "attachments": {},
   "cell_type": "markdown",
   "metadata": {},
   "source": [
    "#### Rationale: \n",
    "\n",
    "<u> Scaling Features Data </u>\n",
    "* Machine learning algorithms often use some form of distance calculation to determine the relationship between different features in the dataset. If the features are on different scales, the algorithm may prioritize some high value range features over others which may have more significant information, leading to biased results.\n",
    "\n",
    "* In addition, the values for the numerical features are divided into ten deciles, ranging from 1 to 10, while categorical data that has been converted into numerical features, consist of either 0 or 1.\n",
    "\n",
    "* Therefore, performing scaling for all the features so that all the features values are at same level and that the algorithm can use all the information from the dataset features to learn generalised patterns, identify buying behaviour and make accurate predictions.\n",
    "\n",
    "<u> StandardScaler </u>\n",
    "* Employing StandardScaler class which is imported from sklearn.preprocessing module to scale and bring all features values at same level. Choosing this method because it does not change the shape of the data distribution and preserves outliers as it scales the data based on the mean of 0 and standard deviation of 1, of the entire dataset, rather than individual datapoints. "
   ]
  },
  {
   "attachments": {},
   "cell_type": "markdown",
   "metadata": {},
   "source": [
    "#### 6] Features Scaling"
   ]
  },
  {
   "cell_type": "code",
   "execution_count": 127,
   "metadata": {},
   "outputs": [],
   "source": [
    "# Instantiating the object named 'scaler' of the StandardScaler class imported from the sklearn.preprocessing module.\n",
    "scaler = StandardScaler()\n",
    "\n",
    "# Fitting the 'scaler' to the training data. \n",
    "scaler.fit(X_train)\n",
    "\n",
    "# Transforming the features data from all the sets using 'scaler' and replacing the features data with the results of the 'scaler'.\n",
    "X_train = scaler.transform(X_train)\n",
    "X_validation = scaler.transform(X_validation)\n",
    "X_test = scaler.transform(X_test)"
   ]
  },
  {
   "attachments": {},
   "cell_type": "markdown",
   "metadata": {},
   "source": [
    "### • Modeling"
   ]
  },
  {
   "attachments": {},
   "cell_type": "markdown",
   "metadata": {},
   "source": [
    "#### Rationale: \n",
    "\n",
    "<u> Binary Classification Algorithm </u>\n",
    "*  The target variable consists of either 0 or 1, where 0 represents the purchase of a single vehicle by the customer, while 1 represents the purchase of multiple vehicles. As we aim to predict only these two possible classes outcome, the Binary Classification model is the right choice along with learning objective purpose.\n",
    "\n",
    "<u> Baseline Performance </u>\n",
    "* We need baseline to compare the model's performance. The performance metric obtained from the training set, lacks significance unless we can compare it with a reference point. Therefore, considering the simplest model, which predicts the most commonly occurring value (mode) in the target variable, to establish the baseline which is also known as 'Null Accuracy' in the classification discipline.\n",
    "\n",
    "* The car repurchases dataset is imbalanced, with one target class represented by 0 making up the large majority of observations (around 97%). The simplest basic model that always predicts the majority class (mode), would achieve high Accuracy score (around 97%) but it would be misleading because the model's actual performance is not good, as it is only considering and predicting for one class. \n",
    "\n",
    "* Therefore, utilizing weighted F1 Score for this unequal class distribution as it considers the weighted average of the F1 scores of each class based on the number of samples in each class. "
   ]
  },
  {
   "attachments": {},
   "cell_type": "markdown",
   "metadata": {},
   "source": [
    "#### 7] Assessing Baseline Performance"
   ]
  },
  {
   "cell_type": "code",
   "execution_count": 128,
   "metadata": {},
   "outputs": [
    {
     "name": "stdout",
     "output_type": "stream",
     "text": [
      "\u001b[4m\n",
      "Baseline Performance (Null Accuracy):\u001b[0m\n",
      "F1 Score: 0.9608074049318301\n"
     ]
    }
   ],
   "source": [
    "# Calculating the mode of the target variable and storing the result into the 'y_mode' variable.\n",
    "y_mode = y_train.mode()\n",
    "\n",
    "# Creating the 'y_base' numpy array of the same dimensions as the training set filled with the above mode value.\n",
    "y_base = np.full(y_train.shape, y_mode)\n",
    "\n",
    "# Displaying the f1 scores of this baseline model.\n",
    "echo(f'\\nBaseline Performance (Null Accuracy):', underline=True) \n",
    "print('F1 Score:', f1_score(y_train, y_base, average='weighted'))"
   ]
  },
  {
   "attachments": {},
   "cell_type": "markdown",
   "metadata": {},
   "source": [
    "#### Rationale: \n",
    "\n",
    "<u> ExtraTrees Classifier </u>\n",
    "* To determine the suitable model for predicting whether current customers are likely to purchase a new vehicle, employing the Extra Trees Classifier algorithm using Feature Importance which takes into account the most important features for predicting target classes and evaluating the performance of this model and comparing its performance with the previous models.\n",
    "\n",
    "<u> Performance Metrics </u>\n",
    "* As working with a Binary Classification algorithm that has a target variable consisting of only two values (0 or 1), the model could make two types of errors while predicting classes. \n",
    "\n",
    "     1] False Positive: Model predicted that the customer would buy a new car (predicted class 1) when the customer is not considering it (actual class 0). \n",
    "\n",
    "     2] False Negative: Model predicted that the customer would not buy a new car (predicted class 0) when in fact the customer is willing to purchase new car (actual class 1). \n",
    "\n",
    "* From the business perspective, to predict more likely customers who can be targeted for the marketing campaign, management may be concerned with the Positive class representing as 1 and having low False Negatives than low False Positives errors because the False Negative would mean they are missing valuable customers, leading to probably not achieving campaign objectives or targets. \n",
    "\n",
    "* Therefore, utilising Precision, Recall, F1 Score because they provide different insights into the model's performance and allow for better understanding of the different aspects of the binary classification problem.\n",
    "\n",
    "* Additionally, evaluating binary F1 score for the binary classifiers which computes results for classes with positive labels. And Confusion Matrix which informs how well the model is performing in terms of its ability to correctly predict the positive and negative classes and provides valuable insights into the types of errors the model is making.\n",
    "\n",
    "* The Accuracy metric score is not considered because of imbalanced nature of the dataset and it doesn't provide any information about False Positive or False Negative error rates."
   ]
  },
  {
   "attachments": {},
   "cell_type": "markdown",
   "metadata": {},
   "source": [
    "#### Rationale: \n",
    "\n",
    "<u> Hyperparameter Tunning</u>\n",
    "* Based on the insights gained from 4th and 5th experiments, making informed assumptions about a suitable range of values for the hyperparameters that are shared by the Decision Tree, Random Forest, and Extra Trees algorithms and employing hyperparameter tuning techniques to find the best possible values for the hyperparameters of the Extra Trees Classifier algorithm.\n",
    "\n",
    "<u> Random Search (RandomizedSearchCV)</u>\n",
    "* Utilizing Random Search method for hyperparameter tuning, as it introduces randomness by randomly selecting values across the search space which may provide combination of hyperparameter values that result in the lowest possible error. \n",
    "\n",
    "* This may not always be possible with Grid Search, as evenly spaced grid points search may not capture the optimal hyperparameter values."
   ]
  },
  {
   "attachments": {},
   "cell_type": "markdown",
   "metadata": {},
   "source": [
    "•  Performing Hyperparameter Tuning."
   ]
  },
  {
   "cell_type": "code",
   "execution_count": 129,
   "metadata": {},
   "outputs": [
    {
     "name": "stdout",
     "output_type": "stream",
     "text": [
      "Fitting 5 folds for each of 10 candidates, totalling 50 fits\n",
      "\n",
      "Below are the Hyperparameters tuned with the Extra Trees Classifier:\n",
      " {'class_weight': 'balanced', 'criterion': 'gini', 'max_depth': 9, 'max_features': 'log2', 'min_samples_leaf': 9, 'min_samples_split': 6, 'n_estimators': 49}\n"
     ]
    }
   ],
   "source": [
    "# Performing hyperparameter tuning for the Extra Trees Classifier using Random Search with cross-validation.\n",
    "\n",
    "# i) Creating 'et_classifier' instance by the instantiating ExtraTreesClassifier class imported from sklearn.ensemble module.\n",
    "et_classifier = ExtraTreesClassifier()\n",
    "\n",
    "# ii) Defining 'hyperparams_dict' dictionary.\n",
    "# Specifying the range of values of hyperparameters to search over using Random Search.\n",
    "hyperparams_dict = {'n_estimators': randint(1, 100),\n",
    "                    'class_weight': ['balanced'],\n",
    "                    'criterion': ['gini', 'entropy'],\n",
    "                    'max_features': ['sqrt', 'log2'],\n",
    "                    'max_depth': randint(1, 10),\n",
    "                    'min_samples_leaf': randint(3, 15),\n",
    "                    'min_samples_split': randint(2, 10)}\n",
    "\n",
    "# iii) Instantiating 'stf_cv' object of StratifiedKFold imported from sklearn.model_selection module.\n",
    "# Using 5 splits to perform stratified cross-validation.\n",
    "stf_cv = StratifiedKFold(n_splits=5)\n",
    "\n",
    "# iv) Instantiating 'random_search_rf' object of RandomizedSearchCV imported from sklearn.model_selection module.\n",
    "# Passing the ExtraTreesRegressor classifier object, hyperparameter dictionary, \n",
    "# random state, cross-validation strategy, and verbosity level as parameters.\n",
    "random_search_rf = RandomizedSearchCV(et_classifier, hyperparams_dict, random_state=7, cv=stf_cv, verbose=1)\n",
    "\n",
    "# v) Combining the training and validation sets for cross-validation.\n",
    "# Combining as the target classes and features were split.\n",
    "X_combined = np.concatenate((X_train, X_validation), axis=0)\n",
    "y_combined = np.concatenate((y_train, y_validation), axis=0)\n",
    "\n",
    "# vi) Training the RandomForest classifier with different hyperparameters.\n",
    "random_search_rf.fit(X_combined, y_combined)\n",
    "\n",
    "# vii) Using 'best_params_' attribute of the RandomizedSearchCV object. \n",
    "# To retrieve the set of hyperparameters values that performed the best during cross-validation.\n",
    "print('\\nBelow are the Hyperparameters tuned with the Extra Trees Classifier:\\n', random_search_rf.best_params_)"
   ]
  },
  {
   "attachments": {},
   "cell_type": "markdown",
   "metadata": {},
   "source": [
    "#### Rationale: \n",
    "\n",
    "<u> Cross-Validation: StratifiedKFold </u>\n",
    "* Performing cross-validation to train and test the model over multiple folds of the dataset to promote model generalisation and to understand the model performance over the whole dataset rather than relying on a single train-validation split. \n",
    "\n",
    "*  Utilising StratifiedKFold technique for cross validation to address the issue of imbalanced dataset as this technique takes into account the distribution and frequency of each class in the target variable and defines the split ensuring that the split between training and validation sets maintains similar distribution to the original data. \n",
    "\n",
    "* With k-fold method, random split is performed, which may result in biased outcomes due to uneven class representation in the splits."
   ]
  },
  {
   "attachments": {},
   "cell_type": "markdown",
   "metadata": {},
   "source": [
    "#### 8] Training Extra Trees Classifier "
   ]
  },
  {
   "attachments": {},
   "cell_type": "markdown",
   "metadata": {},
   "source": [
    "• Building a model and predicitng the target classes for training and validation set utilizing Feature Importance, Hyperparameters Tuned values and cross-validation."
   ]
  },
  {
   "cell_type": "code",
   "execution_count": 130,
   "metadata": {},
   "outputs": [
    {
     "name": "stdout",
     "output_type": "stream",
     "text": [
      "\n",
      "Confusion Matrix of the Extra Trees Classifier with Feature Importance - Cross-Validation set\n",
      " [[1.8423e+04 2.0368e+03]\n",
      " [1.5200e+01 5.3880e+02]]\n"
     ]
    }
   ],
   "source": [
    "# i) Creating 'et_classifier' object by the instantiating ExtraTreesClassifier class from sklearn.ensemble module.\n",
    "# Utilizing above tuned hyperparameters values for the model.\n",
    "et_classifier = ExtraTreesClassifier(class_weight='balanced', criterion='gini', n_estimators=49, max_depth=9, max_features='log2', \n",
    "                                     min_samples_leaf=9, min_samples_split=6, random_state=19)\n",
    "\n",
    "# ii) Creating 'skf' instance of StratifiedKFold class.\n",
    "# Using 5 splits to perform stratified cross-validation.\n",
    "skf = StratifiedKFold(n_splits=5, shuffle=True, random_state=19)\n",
    "\n",
    "# iii) Creating empty list named 'f1_scores' to store cross-validation metrics F1 Scores. \n",
    "f1_scores = []\n",
    "binaryf1_scores = []\n",
    "\n",
    "# iv) Creating empty list named 'conf_matrix' to store cross-validation Confusion Matrix.\n",
    "conf_matrix = []\n",
    "\n",
    "# v) Combining the training and validation set's target classes and features for cross-validation.\n",
    "X_combined = np.concatenate((X_train, X_validation), axis=0)\n",
    "y_combined = np.concatenate((y_train, y_validation), axis=0)\n",
    "\n",
    "# vi) Converting the numpy array to pandas dataframe.\n",
    "X_combined = pd.DataFrame(X_combined)\n",
    "y_combined = pd.DataFrame(y_combined)\n",
    "\n",
    "# vii) Iterating through each fold of the cross-validation.\n",
    "for train_index, validate_index in skf.split(X_combined, y_combined):\n",
    "    # Splitting the data into training and validation sets for this current fold.\n",
    "    X_train_fold, X_validate_fold = X_combined.iloc[train_index], X_combined.iloc[validate_index]\n",
    "    y_train_fold, y_validate_fold = y_combined.iloc[train_index], y_combined.iloc[validate_index]\n",
    "    \n",
    "    # Training the model on the training set for this current fold.\n",
    "    et_classifier.fit(X_train_fold, y_train_fold)\n",
    "    \n",
    "    # Predicting on the testing set for this current fold.\n",
    "    y_validate_predict_fold = et_classifier.predict(X_validate_fold)\n",
    "    \n",
    "    # Evaluating the F1 Score of the model for this current fold.\n",
    "    # Appending the F1 score of cross-validation to the 'f1_scores' list.\n",
    "    f1_scores.append(f1_score(y_validate_fold, y_validate_predict_fold, average='weighted'))\n",
    "    binaryf1_scores.append(f1_score(y_validate_fold, y_validate_predict_fold, average='binary'))\n",
    "\n",
    "    # Calculating the Confusion Matrix measures of the model for this current fold. \n",
    "    # Appending the Confusion Matrix measures of cross-validation to the 'conf_matrix' list.\n",
    "    conf_matrix.append(confusion_matrix(y_validate_fold, y_validate_predict_fold))\n",
    "    \n",
    "# viii) Calculating the average f1 score over all folds of the cross-validation scores.\n",
    "avg_f1_score = np.mean(f1_scores)\n",
    "avg_binaryf1_score = np.mean(binaryf1_scores)\n",
    "\n",
    "# ix) Computing the average confusion matrix over all folds of the cross-validation scores.\n",
    "avg_conf_matrix = np.mean(conf_matrix, axis=0)\n",
    "\n",
    "# x) Building dataframe to hold all the performance scores for the Extra Trees classifier model for 3 sets to review and compare it together.\n",
    "df_etclassifier_perf = pd.DataFrame({\"DataSet\": 'Training-Validation', \"F1 Score\": avg_f1_score, \"binary F1 Score\": avg_binaryf1_score},index=['DataSet'])\n",
    "\n",
    "# xi) Displaying the Confusion Matrix of the cross-validation.\n",
    "print('\\nConfusion Matrix of the Extra Trees Classifier with Feature Importance - Cross-Validation set\\n', avg_conf_matrix)"
   ]
  },
  {
   "cell_type": "code",
   "execution_count": 131,
   "metadata": {},
   "outputs": [
    {
     "data": {
      "image/png": "[encoded data removed]",
      "text/plain": [
       "<Figure size 640x480 with 2 Axes>"
      ]
     },
     "metadata": {},
     "output_type": "display_data"
    }
   ],
   "source": [
    "# Creating the set of axes to customize.\n",
    "ax = plt.axes()\n",
    "\n",
    "# Defining the names and frequencies rates of every class within the target variable.\n",
    "class_names = ['True Negative', 'False Positive', 'False Negative', 'True Positive']\n",
    "class_counts = [\"{0:0.0f}\".format(value) for value in avg_conf_matrix.flatten()]\n",
    "class_percentages = [\"{0:.2%}\".format(value) for value in avg_conf_matrix.flatten()/np.sum(avg_conf_matrix)]\n",
    "\n",
    "# Labeling the confusion matrix plot.\n",
    "labels = [f\"{v1}\\n\\n{v2}\\n\\n{v3}\" for v1, v2, v3 in zip(class_names, class_counts, class_percentages)]\n",
    "labels = np.asarray(labels).reshape(2,2)\n",
    "\n",
    "# Creating heatmap of a confusion matrix using the seaborn library.\n",
    "tarin_conf_matrix = sns.heatmap(avg_conf_matrix, annot=labels, fmt='', cmap='Blues', ax=ax)\n",
    "\n",
    "# Setting the x-axis, y-axis labels and title to the heatmap plot created above.\n",
    "tarin_conf_matrix.set(xlabel='Predicted Classes', ylabel='Actual Classes')\n",
    "ax.set_title('Confusion Matrix of Binary Classification with Extra Trees Classifier with Feature Importance - Cross-Validation')\n",
    "\n",
    "# Displaying the confusion matrix plot.\n",
    "plt.show()"
   ]
  },
  {
   "cell_type": "code",
   "execution_count": 132,
   "metadata": {},
   "outputs": [
    {
     "data": {
      "text/html": [
       "<div>\n",
       "<style scoped>\n",
       "    .dataframe tbody tr th:only-of-type {\n",
       "        vertical-align: middle;\n",
       "    }\n",
       "\n",
       "    .dataframe tbody tr th {\n",
       "        vertical-align: top;\n",
       "    }\n",
       "\n",
       "    .dataframe thead th {\n",
       "        text-align: right;\n",
       "    }\n",
       "</style>\n",
       "<table border=\"1\" class=\"dataframe\">\n",
       "  <thead>\n",
       "    <tr style=\"text-align: right;\">\n",
       "      <th></th>\n",
       "      <th>DataSet</th>\n",
       "      <th>F1 Score</th>\n",
       "      <th>binary F1 Score</th>\n",
       "    </tr>\n",
       "  </thead>\n",
       "  <tbody>\n",
       "    <tr>\n",
       "      <th>DataSet</th>\n",
       "      <td>Training-Validation</td>\n",
       "      <td>0.931352</td>\n",
       "      <td>0.344464</td>\n",
       "    </tr>\n",
       "  </tbody>\n",
       "</table>\n",
       "</div>"
      ],
      "text/plain": [
       "                     DataSet  F1 Score  binary F1 Score\n",
       "DataSet  Training-Validation  0.931352         0.344464"
      ]
     },
     "execution_count": 132,
     "metadata": {},
     "output_type": "execute_result"
    }
   ],
   "source": [
    "# Reviewing the performance metrics score for the training-validation set by cross-validation.\n",
    "df_etclassifier_perf"
   ]
  },
  {
   "attachments": {},
   "cell_type": "markdown",
   "metadata": {},
   "source": [
    "### • Model Evaluation\n",
    "\n",
    "#### 9] Accessing Model Performance\n",
    "\n",
    "• Assessing the performance of the model on the testing set."
   ]
  },
  {
   "cell_type": "code",
   "execution_count": 133,
   "metadata": {},
   "outputs": [],
   "source": [
    "# Evaluating ExtraTrees classifier model performance on testing set and storing result in y_test_predicts.\n",
    "# Utilizing the trained ExtraTrees classifier model with the below tuned hyperparameters.\n",
    "# Fine-Tuned Hyperparameters: n_estimators=91, class_weight='balanced', criterion='entropy', max_depth=9, max_features='log2', min_samples_leaf=13\n",
    "y_test_predicts = et_classifier.predict(X_test)\n",
    "\n",
    "# Evaluating the performance metrics for testing set and storing it in respective variable.\n",
    "test_f1score = f1_score(y_test, y_test_predicts, average='weighted')\n",
    "test_binaryf1 = f1_score(y_test, y_test_predicts, average='binary')\n",
    "\n",
    "# Appending the dataframe to hold all the performance scores for the Extra Trees classifier model of the testing set to review and compare it together.\n",
    "testing = {\"DataSet\": 'Testing', \"F1 Score\": test_f1score, \"binary F1 Score\": test_binaryf1}\n",
    "df_etclassifier_perf = df_etclassifier_perf.append(testing, ignore_index=True)"
   ]
  },
  {
   "cell_type": "code",
   "execution_count": 134,
   "metadata": {},
   "outputs": [
    {
     "data": {
      "image/png": "[encoded data removed]",
      "text/plain": [
       "<Figure size 640x480 with 2 Axes>"
      ]
     },
     "metadata": {},
     "output_type": "display_data"
    }
   ],
   "source": [
    "# Evaluating the confusion matrix score for the testing set. \n",
    "test_confusion_matrix = confusion_matrix(y_test, y_test_predicts)\n",
    "\n",
    "# Creating the set of axes to customize.\n",
    "ax = plt.axes()\n",
    "\n",
    "# Defining the names and frequencies rates of every class within the target variable.\n",
    "class_names = ['True Negative', 'False Positive', 'False Negative', 'True Positive']\n",
    "class_counts = [\"{0:0.0f}\".format(value) for value in test_confusion_matrix.flatten()]\n",
    "class_percentages = [\"{0:.2%}\".format(value) for value in test_confusion_matrix.flatten()/np.sum(test_confusion_matrix)]\n",
    "\n",
    "# Labeling the confusion matrix plot.\n",
    "labels = [f\"{v1}\\n\\n{v2}\\n\\n{v3}\" for v1, v2, v3 in zip(class_names, class_counts, class_percentages)]\n",
    "labels = np.asarray(labels).reshape(2,2)\n",
    "\n",
    "# Creating heatmap of a confusion matrix using the seaborn library.\n",
    "tarin_conf_matrix = sns.heatmap(test_confusion_matrix, annot=labels, fmt='', cmap='Blues', ax=ax)\n",
    "\n",
    "# Setting the x-axis, y-axis labels and title to the heatmap plot created above.\n",
    "tarin_conf_matrix.set(xlabel='Predicted Classes', ylabel='Actual Classes')\n",
    "ax.set_title('Confusion Matrix of Binary Classification with Extra Trees Classifier with Feature Importance - Testing set')\n",
    "\n",
    "# Displaying the confusion matrix plot.\n",
    "plt.show()"
   ]
  },
  {
   "cell_type": "code",
   "execution_count": 135,
   "metadata": {},
   "outputs": [
    {
     "data": {
      "text/html": [
       "<style type=\"text/css\">\n",
       "</style>\n",
       "<table id=\"T_461e9\">\n",
       "  <caption>Extra Trees Classifier with Feature Importance and Tuned Hyperparameters</caption>\n",
       "  <thead>\n",
       "    <tr>\n",
       "      <th class=\"blank level0\" >&nbsp;</th>\n",
       "      <th id=\"T_461e9_level0_col0\" class=\"col_heading level0 col0\" >DataSet</th>\n",
       "      <th id=\"T_461e9_level0_col1\" class=\"col_heading level0 col1\" >F1 Score</th>\n",
       "      <th id=\"T_461e9_level0_col2\" class=\"col_heading level0 col2\" >binary F1 Score</th>\n",
       "    </tr>\n",
       "  </thead>\n",
       "  <tbody>\n",
       "    <tr>\n",
       "      <th id=\"T_461e9_level0_row0\" class=\"row_heading level0 row0\" >0</th>\n",
       "      <td id=\"T_461e9_row0_col0\" class=\"data row0 col0\" >Training-Validation</td>\n",
       "      <td id=\"T_461e9_row0_col1\" class=\"data row0 col1\" >0.931352</td>\n",
       "      <td id=\"T_461e9_row0_col2\" class=\"data row0 col2\" >0.344464</td>\n",
       "    </tr>\n",
       "    <tr>\n",
       "      <th id=\"T_461e9_level0_row1\" class=\"row_heading level0 row1\" >1</th>\n",
       "      <td id=\"T_461e9_row1_col0\" class=\"data row1 col0\" >Testing</td>\n",
       "      <td id=\"T_461e9_row1_col1\" class=\"data row1 col1\" >0.927962</td>\n",
       "      <td id=\"T_461e9_row1_col2\" class=\"data row1 col2\" >0.350706</td>\n",
       "    </tr>\n",
       "  </tbody>\n",
       "</table>\n"
      ],
      "text/plain": [
       "<pandas.io.formats.style.Styler at 0x13ab820e0>"
      ]
     },
     "execution_count": 135,
     "metadata": {},
     "output_type": "execute_result"
    }
   ],
   "source": [
    "# Including the name of the algorithm in its performance metrics.\n",
    "df_etclassifier_perf = df_etclassifier_perf.style.set_caption('Extra Trees Classifier with Feature Importance and Tuned Hyperparameters')\n",
    "\n",
    "# Reviewing the performance metrics score for all the sets.\n",
    "df_etclassifier_perf"
   ]
  },
  {
   "attachments": {},
   "cell_type": "markdown",
   "metadata": {},
   "source": [
    "#### Summary Insight & Deployment Suggestion: \n",
    "\n",
    "* By utilizing only, the most important features and tuned hyperparameters, the Extra Trees Classifier obtained a binary F1 Score of 0.3444 for training-validation and 0.3507 for testing set indicating the result classes with positive label. Moreover, the binary F1 Score has relatively degraded as compared to the Random Forest classifier model from the 5th experiment.  \n",
    "\n",
    "* Both the weighted F1 Score representing overall performance and binary F1 Score informs that the model is performing almost consistently across all the sets. \n",
    "\n",
    "* Additionally, the confusion matrix shows a decreased number of False Negative errors, which are 15 for training-validation and 31 for testing as compared to models from earlier experiments.\n",
    "\n",
    "* Therefore, based on the resutls, the Random Forest Classifier in the experiment 6th is exhibiting better performance compared to the Extra Trees Classifier algorithm. So, it is not advisable to implement this model in the operational setting. "
   ]
  }
 ],
 "metadata": {
  "kernelspec": {
   "display_name": "Python 3",
   "language": "python",
   "name": "python3"
  },
  "language_info": {
   "codemirror_mode": {
    "name": "ipython",
    "version": 3
   },
   "file_extension": ".py",
   "mimetype": "text/x-python",
   "name": "python",
   "nbconvert_exporter": "python",
   "pygments_lexer": "ipython3",
   "version": "3.10.10"
  },
  "orig_nbformat": 4,
  "vscode": {
   "interpreter": {
    "hash": "7e1998ff7f8aa20ada591c520b972326324e5ea05489af9e422744c7c09f6dad"
   }
  }
 },
 "nbformat": 4,
 "nbformat_minor": 2
}
